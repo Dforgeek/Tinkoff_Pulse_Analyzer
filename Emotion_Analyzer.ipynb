{
 "cells": [
  {
   "cell_type": "code",
   "execution_count": 42,
   "id": "66d48a58",
   "metadata": {},
   "outputs": [
    {
     "name": "stderr",
     "output_type": "stream",
     "text": [
      "[nltk_data] Downloading package punkt to\n",
      "[nltk_data]     C:\\Users\\Dforgeek\\AppData\\Roaming\\nltk_data...\n",
      "[nltk_data]   Package punkt is already up-to-date!\n"
     ]
    },
    {
     "data": {
      "text/plain": "True"
     },
     "execution_count": 42,
     "metadata": {},
     "output_type": "execute_result"
    }
   ],
   "source": [
    "import pandas as pd\n",
    "import nltk\n",
    "import numpy as np\n",
    "import pymorphy2 as pymorphy2\n",
    "import seaborn as sns\n",
    "import inspect\n",
    "import matplotlib.pyplot as plt\n",
    "\n",
    "%matplotlib inline\n",
    "sns.set(style=\"darkgrid\")\n",
    "\n",
    "import re\n",
    "\n",
    "nltk.download('punkt')"
   ]
  },
  {
   "cell_type": "code",
   "execution_count": 43,
   "id": "e9f9ebd6",
   "metadata": {},
   "outputs": [
    {
     "data": {
      "text/plain": "   Unnamed: 0                                    id                    date  \\\n0           0  95367da2-8313-49c4-81f5-cbb1f8af69be 2023-01-14 17:17:08.793   \n1           1  c179933b-b992-41a8-953c-e8cddce0a277 2023-01-13 16:30:00.000   \n2           2  9ee444e3-0ff1-4622-82b9-6ff7b1d00ec7 2023-01-12 06:50:00.000   \n3           3  4963f23d-f3ef-4c53-903e-74f62b851aab 2023-01-13 16:25:00.000   \n4           4  bedb0a0f-7657-4d27-a1fd-0b8005813eb5 2023-01-12 13:41:00.000   \n\n                                                text            publisher  \\\n0  Что происходит на Мосбирже, останется на Мосби...       Pulse_Official   \n1  В прямом эфире Василий Олейник и Ирина Ахмадул...  Tinkoff_Investments   \n2  Доброе утро! \\nПродолжаем говорить на тематику...           Invest_Dim   \n3  Российский рынок \\n\\nНапоминаем, что по акциям...  Tinkoff_Investments   \n4  📊 Инфляционные ожидания: что такое и зачем их ...               FinDay   \n\n   reaction  comment  \n0       161    111.0  \n1       140     29.0  \n2       315    149.0  \n3        67     15.0  \n4       105     12.0  ",
      "text/html": "<div>\n<style scoped>\n    .dataframe tbody tr th:only-of-type {\n        vertical-align: middle;\n    }\n\n    .dataframe tbody tr th {\n        vertical-align: top;\n    }\n\n    .dataframe thead th {\n        text-align: right;\n    }\n</style>\n<table border=\"1\" class=\"dataframe\">\n  <thead>\n    <tr style=\"text-align: right;\">\n      <th></th>\n      <th>Unnamed: 0</th>\n      <th>id</th>\n      <th>date</th>\n      <th>text</th>\n      <th>publisher</th>\n      <th>reaction</th>\n      <th>comment</th>\n    </tr>\n  </thead>\n  <tbody>\n    <tr>\n      <th>0</th>\n      <td>0</td>\n      <td>95367da2-8313-49c4-81f5-cbb1f8af69be</td>\n      <td>2023-01-14 17:17:08.793</td>\n      <td>Что происходит на Мосбирже, останется на Мосби...</td>\n      <td>Pulse_Official</td>\n      <td>161</td>\n      <td>111.0</td>\n    </tr>\n    <tr>\n      <th>1</th>\n      <td>1</td>\n      <td>c179933b-b992-41a8-953c-e8cddce0a277</td>\n      <td>2023-01-13 16:30:00.000</td>\n      <td>В прямом эфире Василий Олейник и Ирина Ахмадул...</td>\n      <td>Tinkoff_Investments</td>\n      <td>140</td>\n      <td>29.0</td>\n    </tr>\n    <tr>\n      <th>2</th>\n      <td>2</td>\n      <td>9ee444e3-0ff1-4622-82b9-6ff7b1d00ec7</td>\n      <td>2023-01-12 06:50:00.000</td>\n      <td>Доброе утро! \\nПродолжаем говорить на тематику...</td>\n      <td>Invest_Dim</td>\n      <td>315</td>\n      <td>149.0</td>\n    </tr>\n    <tr>\n      <th>3</th>\n      <td>3</td>\n      <td>4963f23d-f3ef-4c53-903e-74f62b851aab</td>\n      <td>2023-01-13 16:25:00.000</td>\n      <td>Российский рынок \\n\\nНапоминаем, что по акциям...</td>\n      <td>Tinkoff_Investments</td>\n      <td>67</td>\n      <td>15.0</td>\n    </tr>\n    <tr>\n      <th>4</th>\n      <td>4</td>\n      <td>bedb0a0f-7657-4d27-a1fd-0b8005813eb5</td>\n      <td>2023-01-12 13:41:00.000</td>\n      <td>📊 Инфляционные ожидания: что такое и зачем их ...</td>\n      <td>FinDay</td>\n      <td>105</td>\n      <td>12.0</td>\n    </tr>\n  </tbody>\n</table>\n</div>"
     },
     "execution_count": 43,
     "metadata": {},
     "output_type": "execute_result"
    }
   ],
   "source": [
    "df = pd.read_excel(\"posts.xlsx\")\n",
    "df.head()"
   ]
  },
  {
   "cell_type": "code",
   "execution_count": 44,
   "id": "d378efaf",
   "metadata": {},
   "outputs": [
    {
     "data": {
      "text/plain": "        Unnamed: 0     reaction       comment\ncount  3450.000000  3450.000000   3418.000000\nmean   1724.500000   161.273043    177.120538\nstd     996.073541   147.782744    937.298884\nmin       0.000000     2.000000      1.000000\n25%     862.250000    65.000000     16.000000\n50%    1724.500000   129.000000     40.000000\n75%    2586.750000   214.000000     91.000000\nmax    3449.000000  1672.000000  12891.000000",
      "text/html": "<div>\n<style scoped>\n    .dataframe tbody tr th:only-of-type {\n        vertical-align: middle;\n    }\n\n    .dataframe tbody tr th {\n        vertical-align: top;\n    }\n\n    .dataframe thead th {\n        text-align: right;\n    }\n</style>\n<table border=\"1\" class=\"dataframe\">\n  <thead>\n    <tr style=\"text-align: right;\">\n      <th></th>\n      <th>Unnamed: 0</th>\n      <th>reaction</th>\n      <th>comment</th>\n    </tr>\n  </thead>\n  <tbody>\n    <tr>\n      <th>count</th>\n      <td>3450.000000</td>\n      <td>3450.000000</td>\n      <td>3418.000000</td>\n    </tr>\n    <tr>\n      <th>mean</th>\n      <td>1724.500000</td>\n      <td>161.273043</td>\n      <td>177.120538</td>\n    </tr>\n    <tr>\n      <th>std</th>\n      <td>996.073541</td>\n      <td>147.782744</td>\n      <td>937.298884</td>\n    </tr>\n    <tr>\n      <th>min</th>\n      <td>0.000000</td>\n      <td>2.000000</td>\n      <td>1.000000</td>\n    </tr>\n    <tr>\n      <th>25%</th>\n      <td>862.250000</td>\n      <td>65.000000</td>\n      <td>16.000000</td>\n    </tr>\n    <tr>\n      <th>50%</th>\n      <td>1724.500000</td>\n      <td>129.000000</td>\n      <td>40.000000</td>\n    </tr>\n    <tr>\n      <th>75%</th>\n      <td>2586.750000</td>\n      <td>214.000000</td>\n      <td>91.000000</td>\n    </tr>\n    <tr>\n      <th>max</th>\n      <td>3449.000000</td>\n      <td>1672.000000</td>\n      <td>12891.000000</td>\n    </tr>\n  </tbody>\n</table>\n</div>"
     },
     "execution_count": 44,
     "metadata": {},
     "output_type": "execute_result"
    }
   ],
   "source": [
    "df.describe()"
   ]
  },
  {
   "cell_type": "code",
   "execution_count": 45,
   "id": "72bdd9c1",
   "metadata": {},
   "outputs": [
    {
     "name": "stdout",
     "output_type": "stream",
     "text": [
      "<class 'pandas.core.frame.DataFrame'>\n",
      "RangeIndex: 3450 entries, 0 to 3449\n",
      "Data columns (total 7 columns):\n",
      " #   Column      Non-Null Count  Dtype         \n",
      "---  ------      --------------  -----         \n",
      " 0   Unnamed: 0  3450 non-null   int64         \n",
      " 1   id          3450 non-null   object        \n",
      " 2   date        3450 non-null   datetime64[ns]\n",
      " 3   text        3450 non-null   object        \n",
      " 4   publisher   3450 non-null   object        \n",
      " 5   reaction    3450 non-null   int64         \n",
      " 6   comment     3418 non-null   float64       \n",
      "dtypes: datetime64[ns](1), float64(1), int64(2), object(3)\n",
      "memory usage: 148.3+ KB\n"
     ]
    }
   ],
   "source": [
    "df.info()"
   ]
  },
  {
   "cell_type": "code",
   "execution_count": 46,
   "id": "a7228354",
   "metadata": {},
   "outputs": [
    {
     "data": {
      "text/plain": "Unnamed: 0     0\nid             0\ndate           0\ntext           0\npublisher      0\nreaction       0\ncomment       32\ndtype: int64"
     },
     "execution_count": 46,
     "metadata": {},
     "output_type": "execute_result"
    }
   ],
   "source": [
    "df.isnull().sum()"
   ]
  },
  {
   "cell_type": "code",
   "execution_count": 47,
   "id": "6d1b2b21",
   "metadata": {},
   "outputs": [],
   "source": [
    "df['comment'] = df['comment'].fillna(0)"
   ]
  },
  {
   "cell_type": "code",
   "execution_count": 48,
   "id": "98736ad1",
   "metadata": {},
   "outputs": [],
   "source": [
    "import re\n",
    "\n",
    "def standardize_text(text):\n",
    "    text = text.lower()\n",
    "    text = re.sub('@[^\\s]+', '', text)\n",
    "    text = re.sub('http[^\\s]+', '', text)\n",
    "    text = re.sub('\\$\\d+\\.\\d{2}', '', text)\n",
    "    text = re.sub(r'\\d+', '', text)\n",
    "    text = re.sub(\"[^\\w\\s]\",\"\", text) # возможно плохая\n",
    "    text = re.sub('\\n', ' ', text)\n",
    "    text = re.sub('\\xa0', ' ', text)\n",
    "    text= re.sub(' +',' ', text)\n",
    "    return text\n",
    "\n"
   ]
  },
  {
   "cell_type": "code",
   "execution_count": 49,
   "id": "fbb3e56b",
   "metadata": {},
   "outputs": [
    {
     "data": {
      "text/plain": "'🤓 Японские свечи, топливные брикеты и история о дружбе инвесторов\\n\\nОбсуждаем самые популярные и интересные посты этой недели в Пульсе.\\n\\n🧬В топе по просмотрам сплошь новостные дайджесты. Самые популярные от\\xa0 @Dengy_ne_problema (около 15 тыс. просмотров), @Fomag.ru (13,4 тыс) и @Yverenno (12,1 тыс).\\n\\n🧬Но нам бы хотелось отметить образовательный пост @GilmanovMedia про японские свечи. Наглядно (с картинкой) и просто автор объясняет, как работает инструмент технического анализа и, что важно, не выдает его за панацею. Результат — больше 400 комментов и 100 лайков, 11,5 тыс. просмотров.\\xa0\\n\\n🧬Также в топе по лайкам пост про зависание нашего приложения от @GoodMoneyWork (397 лайков). Все оперативно починили, спасибо, что помогаете нам находить и исправлять ошибки. А также обзор российского рынка на постпраздничной неделе от @Karsotel (348 лайков).\\xa0\\n\\n🧬Бодро ворвалась в Пульс редакция информагентства для трейдеров и инвесторов Биржевик — @BirzhevikOfficial. Ребята пишут годный контент, быстро набирают подписчиков (1957) и лайки (314 у приветственного поста). Так держать!\\xa0\\n\\n🧬Также в топе по количеству лайков (297) @Segezha_Group_official с новостью о том, что компания начала продавать топливные брикеты на Ozon. Здорово, когда большие компании делятся интересными новостями.\\xa0Больше всего комментариев собрал пост @osmagnat с фотками собственноручно приготовленной пиццы — 687. \\n\\n🧬И еще одна интересная история (634 комментария) от @Katy_gav, которая нашла в Пульсе подругу и, как внезапно выяснилось, соседку. Инвестиции сближают)\\xa0'"
     },
     "execution_count": 49,
     "metadata": {},
     "output_type": "execute_result"
    }
   ],
   "source": [
    "df['text'][8]\n"
   ]
  },
  {
   "cell_type": "code",
   "execution_count": 50,
   "id": "994c619a",
   "metadata": {},
   "outputs": [],
   "source": [
    "df['text'] = df['text'].apply(standardize_text)"
   ]
  },
  {
   "cell_type": "code",
   "execution_count": 51,
   "id": "930671f2",
   "metadata": {},
   "outputs": [
    {
     "data": {
      "text/plain": "' японские свечи топливные брикеты и история о дружбе инвесторов обсуждаем самые популярные и интересные посты этой недели в пульсе в топе по просмотрам сплошь новостные дайджесты самые популярные от около тыс просмотров тыс и тыс но нам бы хотелось отметить образовательный пост про японские свечи наглядно с картинкой и просто автор объясняет как работает инструмент технического анализа и что важно не выдает его за панацею результат больше комментов и лайков тыс просмотров также в топе по лайкам пост про зависание нашего приложения от лайков все оперативно починили спасибо что помогаете нам находить и исправлять ошибки а также обзор российского рынка на постпраздничной неделе от лайков бодро ворвалась в пульс редакция информагентства для трейдеров и инвесторов биржевик ребята пишут годный контент быстро набирают подписчиков и лайки у приветственного поста так держать также в топе по количеству лайков с новостью о том что компания начала продавать топливные брикеты на ozon здорово когда большие компании делятся интересными новостями больше всего комментариев собрал пост с фотками собственноручно приготовленной пиццы и еще одна интересная история комментария от которая нашла в пульсе подругу и как внезапно выяснилось соседку инвестиции сближают '"
     },
     "execution_count": 51,
     "metadata": {},
     "output_type": "execute_result"
    }
   ],
   "source": [
    "df['text'][8]"
   ]
  },
  {
   "cell_type": "markdown",
   "id": "b0b12ba9",
   "metadata": {},
   "source": [
    "#Tokenization with NLTK"
   ]
  },
  {
   "cell_type": "code",
   "execution_count": 52,
   "id": "c4037f04",
   "metadata": {},
   "outputs": [
    {
     "name": "stderr",
     "output_type": "stream",
     "text": [
      "[nltk_data] Downloading package stopwords to\n",
      "[nltk_data]     C:\\Users\\Dforgeek\\AppData\\Roaming\\nltk_data...\n",
      "[nltk_data]   Package stopwords is already up-to-date!\n"
     ]
    }
   ],
   "source": [
    "from nltk.tokenize import word_tokenize\n",
    "nltk.download('stopwords')\n",
    "\n",
    "from nltk.corpus import stopwords"
   ]
  },
  {
   "cell_type": "code",
   "execution_count": 53,
   "id": "4d35b55e",
   "metadata": {},
   "outputs": [],
   "source": [
    "df['token'] = df['text'].apply(word_tokenize)"
   ]
  },
  {
   "cell_type": "code",
   "execution_count": 54,
   "id": "0f49f2cd",
   "metadata": {},
   "outputs": [
    {
     "name": "stdout",
     "output_type": "stream",
     "text": [
      "893079 words total, with a vocabulary size of 59045\n",
      "Max sentence length is 1768\n"
     ]
    }
   ],
   "source": [
    "all_words = [word for tokens in df[\"token\"] for word in tokens]\n",
    "text_lengths = [len(tokens) for tokens in df[\"token\"]]\n",
    "VOCAB = sorted(list(set(all_words)))\n",
    "\n",
    "print(\"%s words total, with a vocabulary size of %s\" % (len(all_words), len(VOCAB)))\n",
    "print(\"Max sentence length is %s\" % max(text_lengths))"
   ]
  },
  {
   "cell_type": "code",
   "execution_count": 55,
   "id": "2860ffaa",
   "metadata": {},
   "outputs": [
    {
     "data": {
      "text/plain": "<Figure size 800x800 with 1 Axes>",
      "image/png": "[encoded data removed]"
     },
     "metadata": {},
     "output_type": "display_data"
    }
   ],
   "source": [
    "fig = plt.figure(figsize=(8, 8))\n",
    "plt.xlabel('Number of words')\n",
    "plt.ylabel('Count')\n",
    "plt.hist(text_lengths, bins=20)\n",
    "plt.show()"
   ]
  },
  {
   "cell_type": "markdown",
   "id": "8c622cbc",
   "metadata": {},
   "source": [
    "### Remove stop words"
   ]
  },
  {
   "cell_type": "code",
   "execution_count": 56,
   "id": "eb444e24",
   "metadata": {},
   "outputs": [],
   "source": [
    "def remove_stopwords(text, vocab_set):\n",
    "    words = [w for w in text if w not in vocab_set]\n",
    "    return words"
   ]
  },
  {
   "cell_type": "code",
   "execution_count": 57,
   "id": "d1802806",
   "metadata": {},
   "outputs": [
    {
     "name": "stdout",
     "output_type": "stream",
     "text": [
      "CPU times: total: 2.25 s\n",
      "Wall time: 2.25 s\n"
     ]
    }
   ],
   "source": [
    "%%time\n",
    "df['token'] = df['token'].apply(lambda x: remove_stopwords(x, stopwords.words('russian')))"
   ]
  },
  {
   "cell_type": "code",
   "execution_count": 58,
   "id": "7365bab2",
   "metadata": {},
   "outputs": [
    {
     "data": {
      "text/plain": "0       [происходит, мосбирже, останется, мосбирже, эг...\n1       [прямом, эфире, василий, олейник, ирина, ахмад...\n2       [доброе, утро, продолжаем, говорить, тематику,...\n3       [российский, рынок, напоминаем, акциям, сбера,...\n4       [инфляционные, ожидания, такое, оценивать, эко...\n                              ...                        \n3445    [продолжаем, публиковать, расписание, финансов...\n3446    [чипы, кризис, нужны, акции, полупроводниковых...\n3447    [году, курс, долларрубль, успел, взлететь, зат...\n3448    [делать, свободными, рублями, депозиты, людей,...\n3449    [гмк, норникель, gmkn, обзор, компании, новых,...\nName: token, Length: 3450, dtype: object"
     },
     "execution_count": 58,
     "metadata": {},
     "output_type": "execute_result"
    }
   ],
   "source": [
    "df['token']"
   ]
  },
  {
   "cell_type": "markdown",
   "id": "f8145a07",
   "metadata": {},
   "source": [
    "### Let's look how many words left after removing stop words"
   ]
  },
  {
   "cell_type": "code",
   "execution_count": 59,
   "id": "d7bf322f",
   "metadata": {},
   "outputs": [
    {
     "name": "stdout",
     "output_type": "stream",
     "text": [
      "633744 words total, with a vocabulary size of 58894\n",
      "Max sentence length is 1298\n"
     ]
    }
   ],
   "source": [
    "all_words_tr = [word for tokens in df[\"token\"] for word in tokens]\n",
    "text_lengths_tr = [len(tokens) for tokens in df[\"token\"]]\n",
    "vocab_tr = sorted(list(set(all_words_tr)))\n",
    "\n",
    "print(\"%s words total, with a vocabulary size of %s\" % (len(all_words_tr), len(vocab_tr)))\n",
    "print(\"Max sentence length is %s\" % max(text_lengths_tr))"
   ]
  },
  {
   "cell_type": "code",
   "execution_count": 60,
   "id": "4136003e",
   "metadata": {},
   "outputs": [
    {
     "data": {
      "text/plain": "<Figure size 800x800 with 1 Axes>",
      "image/png": "[encoded data removed]"
     },
     "metadata": {},
     "output_type": "display_data"
    }
   ],
   "source": [
    "fig = plt.figure(figsize=(8, 8))\n",
    "plt.xlabel('Number of words')\n",
    "plt.ylabel('Count')\n",
    "plt.hist(text_lengths_tr, bins=20)\n",
    "plt.show()"
   ]
  },
  {
   "cell_type": "code",
   "execution_count": 61,
   "id": "d9ecc5ed",
   "metadata": {},
   "outputs": [
    {
     "name": "stdout",
     "output_type": "stream",
     "text": [
      "Word's dropped in total: 259335\n",
      "Word's dropped from vocabulary: 151\n"
     ]
    }
   ],
   "source": [
    "print(\"Word's dropped in total:\", len(all_words)-len(all_words_tr))\n",
    "print(\"Word's dropped from vocabulary:\", len(VOCAB)-len(vocab_tr))"
   ]
  },
  {
   "cell_type": "markdown",
   "id": "77a34be0",
   "metadata": {},
   "source": [
    "### Lemmatization"
   ]
  },
  {
   "cell_type": "code",
   "execution_count": 62,
   "id": "7194ff18",
   "metadata": {},
   "outputs": [],
   "source": [
    "import pymorphy2\n",
    "from pymorphy2 import MorphAnalyzer"
   ]
  },
  {
   "cell_type": "code",
   "execution_count": 63,
   "id": "13e1a571",
   "metadata": {},
   "outputs": [],
   "source": [
    "morph = MorphAnalyzer()\n",
    "\n",
    "def lemmatize(text):\n",
    "    text = [morph.normal_forms(x)[0] for x in text]\n",
    "    return text"
   ]
  },
  {
   "cell_type": "code",
   "execution_count": 81,
   "id": "8a416feb",
   "metadata": {},
   "outputs": [],
   "source": [
    "series_lem = df['token'].apply(lemmatize)"
   ]
  },
  {
   "cell_type": "markdown",
   "id": "3f2d8b96",
   "metadata": {},
   "source": [
    "#### Check words frequency"
   ]
  },
  {
   "cell_type": "code",
   "execution_count": 65,
   "id": "a2ed2750",
   "metadata": {},
   "outputs": [],
   "source": [
    "from nltk.probability import FreqDist"
   ]
  },
  {
   "cell_type": "code",
   "execution_count": 66,
   "id": "a2f8daab",
   "metadata": {},
   "outputs": [
    {
     "data": {
      "text/plain": "['бодрый',\n 'бывать',\n 'индекс',\n 'мосбиржа',\n 'отжиматься',\n 'бросок',\n 'пока',\n 'сам',\n 'знать',\n 'голубой']"
     },
     "execution_count": 66,
     "metadata": {},
     "output_type": "execute_result"
    }
   ],
   "source": [
    "corpus = [word for i in series_lem for word in i]\n",
    "corpus[10:20]"
   ]
  },
  {
   "cell_type": "code",
   "execution_count": 67,
   "id": "d8909399",
   "metadata": {},
   "outputs": [
    {
     "data": {
      "text/plain": "<AxesSubplot:>"
     },
     "execution_count": 67,
     "metadata": {},
     "output_type": "execute_result"
    },
    {
     "data": {
      "text/plain": "<Figure size 640x480 with 1 Axes>",
      "image/png": "[encoded data removed]"
     },
     "metadata": {},
     "output_type": "display_data"
    }
   ],
   "source": [
    "most_common = FreqDist(corpus).most_common(20)\n",
    "words, frequency = [], []\n",
    "for word, count in most_common:\n",
    "    words.append(word)\n",
    "    frequency.append(count)\n",
    "    \n",
    "sns.barplot(x = frequency, y = words)"
   ]
  },
  {
   "cell_type": "code",
   "execution_count": 68,
   "id": "f2c40a28",
   "metadata": {},
   "outputs": [
    {
     "data": {
      "text/plain": "[('год', 8502),\n ('компания', 7332),\n ('акция', 7043),\n ('это', 6189),\n ('который', 5092),\n ('рынок', 5046),\n ('цена', 3770),\n ('инвестор', 3709),\n ('бумага', 3624),\n ('свой', 3135),\n ('рост', 2801),\n ('рубль', 2569),\n ('актив', 2390),\n ('такой', 2383),\n ('прибыль', 2338),\n ('финансовый', 2091),\n ('мочь', 2053),\n ('время', 2051),\n ('облигация', 2000),\n ('млрд', 1919),\n ('риск', 1866),\n ('уровень', 1826),\n ('также', 1782),\n ('инвестиция', 1733),\n ('портфель', 1711),\n ('ценный', 1686),\n ('биржа', 1659),\n ('другой', 1620),\n ('день', 1616),\n ('один', 1612),\n ('сделка', 1565),\n ('ставка', 1547),\n ('дивиденд', 1546),\n ('новый', 1519),\n ('быть', 1511),\n ('первый', 1501),\n ('счёт', 1495),\n ('результат', 1492),\n ('российский', 1485),\n ('самый', 1452),\n ('индекс', 1439),\n ('продажа', 1432),\n ('деньга', 1410),\n ('доходность', 1394),\n ('выручка', 1357),\n ('наш', 1333),\n ('ваш', 1328),\n ('стоимость', 1286),\n ('хороший', 1282),\n ('стать', 1272)]"
     },
     "execution_count": 68,
     "metadata": {},
     "output_type": "execute_result"
    }
   ],
   "source": [
    "FreqDist(corpus).most_common(50)"
   ]
  },
  {
   "cell_type": "markdown",
   "id": "de96533e",
   "metadata": {},
   "source": [
    "We can see, that words like \"**который**\" and \"**это**\" are popular, but will not have impact on model. We should drop them"
   ]
  },
  {
   "cell_type": "code",
   "execution_count": 79,
   "id": "c0df3acf",
   "metadata": {},
   "outputs": [],
   "source": [
    "stop_words = [\"это\", \"который\", \"свой\", 'такой', 'также']\n",
    "series_lem = series_lem.apply(lambda x: remove_stopwords(x, stop_words))"
   ]
  },
  {
   "cell_type": "markdown",
   "source": [],
   "metadata": {
    "collapsed": false
   }
  },
  {
   "cell_type": "code",
   "execution_count": 97,
   "id": "6b9f99e6",
   "metadata": {},
   "outputs": [
    {
     "data": {
      "text/plain": "[('год', 8502),\n ('компания', 7332),\n ('акция', 7043),\n ('это', 6189),\n ('который', 5092),\n ('рынок', 5046),\n ('цена', 3770),\n ('инвестор', 3709),\n ('бумага', 3624),\n ('свой', 3135),\n ('рост', 2801),\n ('рубль', 2569),\n ('актив', 2390),\n ('такой', 2383),\n ('прибыль', 2338),\n ('финансовый', 2091),\n ('мочь', 2053),\n ('время', 2051),\n ('облигация', 2000),\n ('млрд', 1919),\n ('риск', 1866),\n ('уровень', 1826),\n ('также', 1782),\n ('инвестиция', 1733),\n ('портфель', 1711),\n ('ценный', 1686),\n ('биржа', 1659),\n ('другой', 1620),\n ('день', 1616),\n ('один', 1612),\n ('сделка', 1565),\n ('ставка', 1547),\n ('дивиденд', 1546),\n ('новый', 1519),\n ('быть', 1511),\n ('первый', 1501),\n ('счёт', 1495),\n ('результат', 1492),\n ('российский', 1485),\n ('самый', 1452),\n ('индекс', 1439),\n ('продажа', 1432),\n ('деньга', 1410),\n ('доходность', 1394),\n ('выручка', 1357),\n ('наш', 1333),\n ('ваш', 1328),\n ('стоимость', 1286),\n ('хороший', 1282),\n ('стать', 1272),\n ('получить', 1266),\n ('являться', 1263),\n ('сша', 1256),\n ('неделя', 1255),\n ('инструмент', 1249),\n ('месяц', 1249),\n ('доход', 1246),\n ('весь', 1215),\n ('покупка', 1198),\n ('показатель', 1187),\n ('квартал', 1184),\n ('вырасти', 1171),\n ('купить', 1158),\n ('высокий', 1154),\n ('новость', 1148),\n ('млн', 1148),\n ('стратегия', 1118),\n ('тот', 1110),\n ('обзор', 1102),\n ('каждый', 1092),\n ('например', 1069),\n ('расти', 1036),\n ('последний', 1036),\n ('бизнес', 1026),\n ('часть', 1003),\n ('итог', 1002),\n ('банк', 999),\n ('тинькофф', 995),\n ('сумма', 992),\n ('случай', 991),\n ('доллар', 990),\n ('россия', 986),\n ('человек', 971),\n ('инвестиционный', 968),\n ('момент', 940),\n ('торг', 936),\n ('должный', 927),\n ('иметь', 926),\n ('руб', 918),\n ('пост', 917),\n ('пульс', 910),\n ('этот', 907),\n ('нужно', 904),\n ('объём', 904),\n ('чистый', 888),\n ('дать', 882),\n ('стоить', 880),\n ('больший', 876),\n ('средство', 875),\n ('страна', 875)]"
     },
     "execution_count": 97,
     "metadata": {},
     "output_type": "execute_result"
    }
   ],
   "source": [
    "corpus = [word for i in series_lem for word in i]\n",
    "FreqDist(corpus).most_common(100)"
   ]
  },
  {
   "cell_type": "code",
   "execution_count": 99,
   "outputs": [
    {
     "data": {
      "text/plain": "[('ценный бумага', 1636),\n ('фондовый рынок', 645),\n ('год год', 596),\n ('чистый прибыль', 540),\n ('финансовый инструмент', 527),\n ('тинькофф инвестиция', 506),\n ('млрд рубль', 442),\n ('читать обзор', 432),\n ('бумага другой', 425),\n ('новость news', 424),\n ('другой финансовый', 414),\n ('прояви_себя_в_пульс пульс_оценить', 371),\n ('млрд руб', 368),\n ('акция компания', 338),\n ('спб биржа', 319),\n ('процентный ставка', 317),\n ('учу_в_пульс прояви_себя_в_пульс', 298),\n ('источник новость', 298),\n ('цена акция', 285),\n ('купить продать', 271),\n ('российский рынок', 264),\n ('иностранный ценный', 261),\n ('второй квартал', 255),\n ('денежный средство', 253),\n ('такой образ', 242),\n ('финансовый результат', 229),\n ('инвестиционный идея', 222),\n ('индекс мосбиржа', 218),\n ('квартал год', 217),\n ('рост цена', 217),\n ('компания который', 216),\n ('бумага мочь', 213),\n ('являться инвестиционный', 212),\n ('продать ценный', 212),\n ('упомянуть данный', 208),\n ('данный обзор', 208),\n ('инструмент упомянуть', 207),\n ('обратить внимание', 207),\n ('ключевой ставка', 207),\n ('обзор привести', 206),\n ('млрд год', 206),\n ('информационный цель', 205),\n ('конец год', 205),\n ('пульс новичок', 205),\n ('привести исключительно', 204),\n ('исключительно информационный', 204),\n ('идея совет', 204),\n ('цель обзор', 203),\n ('обзор являться', 203),\n ('совет рекомендация', 203),\n ('денежный поток', 203),\n ('рекомендация предложение', 202),\n ('предложение купить', 201),\n ('московский биржа', 201),\n ('народный портфель', 200),\n ('первый полугодие', 198),\n ('инструмент уведомлять', 197),\n ('выплата дивиденд', 197),\n ('прошлый неделя', 195),\n ('мочь столкнуться', 194),\n ('уведомлять приобретение', 193),\n ('приобретение владение', 193),\n ('владение иностранный', 193),\n ('брокерский счёт', 191),\n ('столкнуться риск', 190),\n ('риск депозитарный', 190),\n ('депозитарный инфраструктура', 189),\n ('инфраструктура связанный', 189),\n ('связанный геополитический', 189),\n ('участник рынок', 189),\n ('это значит', 188),\n ('текст дисклеймера', 188),\n ('млн рубль', 188),\n ('зелёный портфель', 185),\n ('последний год', 177),\n ('геополитический ситуация', 175),\n ('темп рост', 174),\n ('начало год', 173),\n ('следующий год', 173),\n ('прошлое год', 172),\n ('рынок акция', 171),\n ('третий квартал', 167),\n ('составить млрд', 166),\n ('акция облигация', 165),\n ('объём торг', 165),\n ('один самый', 164),\n ('покупать акция', 163),\n ('совет директор', 163),\n ('новичок прояви_себя_в_пульс', 162),\n ('покупка продажа', 160),\n ('рост выручка', 160),\n ('весь текст', 159),\n ('учу_в_пульс пульс', 158),\n ('ситуация весь', 158),\n ('стоимость акция', 155),\n ('аналитик тинькофф', 154),\n ('акция который', 154),\n ('купить акция', 150),\n ('выручка млрд', 148),\n ('хороший день', 148)]"
     },
     "execution_count": 99,
     "metadata": {},
     "output_type": "execute_result"
    }
   ],
   "source": [
    "from nltk import ngrams\n",
    "n=2\n",
    "ngrams_2_series = series_lem.apply(lambda x: list(map(' '.join, ngrams(x, n=n))))\n",
    "FreqDist([word for i in ngrams_2_series for word in i]).most_common(100)"
   ],
   "metadata": {
    "collapsed": false
   }
  },
  {
   "cell_type": "code",
   "execution_count": 98,
   "outputs": [
    {
     "data": {
      "text/plain": "[('другой финансовый инструмент', 411),\n ('бумага другой финансовый', 408),\n ('ценный бумага другой', 404),\n ('источник новость news', 290),\n ('иностранный ценный бумага', 261),\n ('продать ценный бумага', 208),\n ('финансовый инструмент упомянуть', 207),\n ('инструмент упомянуть данный', 207),\n ('упомянуть данный обзор', 207),\n ('данный обзор привести', 206),\n ('обзор привести исключительно', 204),\n ('привести исключительно информационный', 204),\n ('исключительно информационный цель', 204),\n ('информационный цель обзор', 203),\n ('цель обзор являться', 203),\n ('обзор являться инвестиционный', 203),\n ('являться инвестиционный идея', 203),\n ('инвестиционный идея совет', 203),\n ('идея совет рекомендация', 202),\n ('совет рекомендация предложение', 202),\n ('купить продать ценный', 202),\n ('рекомендация предложение купить', 200),\n ('предложение купить продать', 200),\n ('ценный бумага мочь', 200),\n ('финансовый инструмент уведомлять', 197),\n ('инструмент уведомлять приобретение', 193),\n ('уведомлять приобретение владение', 193),\n ('приобретение владение иностранный', 192),\n ('владение иностранный ценный', 192),\n ('бумага мочь столкнуться', 191),\n ('мочь столкнуться риск', 190),\n ('столкнуться риск депозитарный', 190),\n ('риск депозитарный инфраструктура', 189),\n ('депозитарный инфраструктура связанный', 189),\n ('инфраструктура связанный геополитический', 189),\n ('учу_в_пульс прояви_себя_в_пульс пульс_оценить', 188),\n ('связанный геополитический ситуация', 158),\n ('геополитический ситуация весь', 158),\n ('ситуация весь текст', 158),\n ('весь текст дисклеймера', 157),\n ('пульс новичок прояви_себя_в_пульс', 148),\n ('новичок прояви_себя_в_пульс пульс_оценить', 142),\n ('учу_в_пульс пульс новичок', 138),\n ('аналитик тинькофф инвестиция', 132),\n ('спасибо дочитать конец', 129),\n ('дочитать конец желать', 126),\n ('конец желать хороший', 126),\n ('желать хороший день', 126),\n ('хороший день зелёный', 126),\n ('день зелёный портфель', 126),\n ('хороший поддержка это', 121),\n ('поддержка это ваш', 121),\n ('это ваш реакция', 121),\n ('ваш реакция пост', 120),\n ('реакция пост учу_в_пульс', 120),\n ('пост учу_в_пульс пульс', 120),\n ('год чистый прибыль', 107),\n ('______________________________ спасибо дочитать', 104),\n ('млрд год год', 100),\n ('зелёный портфель хороший', 98),\n ('портфель хороший поддержка', 97),\n ('прояви_себя_в_пульс пульс_оценить новичок', 84),\n ('чистый прибыль млрд', 82),\n ('главный новость зарубежный', 80),\n ('новость зарубежный рынок', 80),\n ('дозор главный новость', 79),\n ('ночной дозор главный', 78),\n ('новость news перевод', 78),\n ('широкий индекс акция', 76),\n ('первый полугодие год', 73),\n ('зарубежный рынок этот', 72),\n ('рынок этот утро', 72),\n ('составить млрд рубль', 70),\n ('год год чистый', 66),\n ('msci ac asia', 64),\n ('ac asia ex', 64),\n ('asia ex japan', 64),\n ('ex japan index', 64),\n ('выручка млрд год', 64),\n ('второй квартал год', 63),\n ('индекс акция азия', 62),\n ('акция азия исключение', 62),\n ('азия исключение япония', 62),\n ('исключение япония msci', 62),\n ('япония msci ac', 62),\n ('тинькофф инвестиция кирилл', 62),\n ('аналитика тинькофф инвестиция', 61),\n ('прояви_себя_в_пульс пульс_оценить пульс', 60),\n ('гонконгский hang seng', 59),\n ('свободный денежный поток', 58),\n ('консенсуспрогноз bloomberg ожидать', 56),\n ('bloomberg ожидать выручка', 56),\n ('повышение процентный ставка', 55),\n ('ожидать выручка млрд', 54),\n ('весь удача зелёный', 53),\n ('удача зелёный портфель', 53),\n ('год год eps', 53),\n ('забывать подписаться весь', 52),\n ('подписаться весь удача', 52),\n ('зелёный портфель __________________________', 52)]"
     },
     "execution_count": 98,
     "metadata": {},
     "output_type": "execute_result"
    }
   ],
   "source": [
    "n=3\n",
    "ngrams_3_series = series_lem.apply(lambda x: list(map(' '.join, ngrams(x, n=n))))\n",
    "FreqDist([word for i in ngrams_3_series for word in i]).most_common(100)"
   ],
   "metadata": {
    "collapsed": false
   }
  },
  {
   "cell_type": "code",
   "execution_count": 100,
   "outputs": [
    {
     "data": {
      "text/plain": "[('бумага другой финансовый инструмент', 406),\n ('ценный бумага другой финансовый', 397),\n ('другой финансовый инструмент упомянуть', 207),\n ('финансовый инструмент упомянуть данный', 207),\n ('инструмент упомянуть данный обзор', 207),\n ('упомянуть данный обзор привести', 206),\n ('данный обзор привести исключительно', 204),\n ('обзор привести исключительно информационный', 204),\n ('привести исключительно информационный цель', 204),\n ('исключительно информационный цель обзор', 203),\n ('информационный цель обзор являться', 203),\n ('цель обзор являться инвестиционный', 203),\n ('обзор являться инвестиционный идея', 203),\n ('являться инвестиционный идея совет', 203),\n ('инвестиционный идея совет рекомендация', 202),\n ('идея совет рекомендация предложение', 202),\n ('купить продать ценный бумага', 201),\n ('совет рекомендация предложение купить', 200),\n ('рекомендация предложение купить продать', 200),\n ('предложение купить продать ценный', 200),\n ('продать ценный бумага другой', 200),\n ('другой финансовый инструмент уведомлять', 197),\n ('финансовый инструмент уведомлять приобретение', 193),\n ('инструмент уведомлять приобретение владение', 193),\n ('уведомлять приобретение владение иностранный', 192),\n ('приобретение владение иностранный ценный', 192),\n ('владение иностранный ценный бумага', 192),\n ('иностранный ценный бумага мочь', 191),\n ('ценный бумага мочь столкнуться', 191),\n ('бумага мочь столкнуться риск', 190),\n ('мочь столкнуться риск депозитарный', 190),\n ('столкнуться риск депозитарный инфраструктура', 189),\n ('риск депозитарный инфраструктура связанный', 189),\n ('депозитарный инфраструктура связанный геополитический', 189),\n ('инфраструктура связанный геополитический ситуация', 158),\n ('связанный геополитический ситуация весь', 158),\n ('геополитический ситуация весь текст', 158),\n ('ситуация весь текст дисклеймера', 157),\n ('пульс новичок прояви_себя_в_пульс пульс_оценить', 142),\n ('учу_в_пульс пульс новичок прояви_себя_в_пульс', 136),\n ('спасибо дочитать конец желать', 126),\n ('дочитать конец желать хороший', 126),\n ('конец желать хороший день', 126),\n ('желать хороший день зелёный', 126),\n ('хороший день зелёный портфель', 126),\n ('хороший поддержка это ваш', 121),\n ('поддержка это ваш реакция', 121),\n ('это ваш реакция пост', 120),\n ('ваш реакция пост учу_в_пульс', 120),\n ('реакция пост учу_в_пульс пульс', 120),\n ('пост учу_в_пульс пульс новичок', 120),\n ('______________________________ спасибо дочитать конец', 104),\n ('день зелёный портфель хороший', 97),\n ('зелёный портфель хороший поддержка', 97),\n ('портфель хороший поддержка это', 97),\n ('главный новость зарубежный рынок', 80),\n ('учу_в_пульс прояви_себя_в_пульс пульс_оценить новичок', 79),\n ('ночной дозор главный новость', 78),\n ('дозор главный новость зарубежный', 78),\n ('источник новость news перевод', 78),\n ('новость зарубежный рынок этот', 72),\n ('зарубежный рынок этот утро', 72),\n ('msci ac asia ex', 64),\n ('ac asia ex japan', 64),\n ('asia ex japan index', 64),\n ('широкий индекс акция азия', 62),\n ('индекс акция азия исключение', 62),\n ('акция азия исключение япония', 62),\n ('азия исключение япония msci', 62),\n ('исключение япония msci ac', 62),\n ('япония msci ac asia', 62),\n ('год год чистый прибыль', 61),\n ('учу_в_пульс прояви_себя_в_пульс пульс_оценить пульс', 58),\n ('консенсуспрогноз bloomberg ожидать выручка', 56),\n ('выручка млрд год год', 54),\n ('млрд год год чистый', 54),\n ('весь удача зелёный портфель', 53),\n ('ожидать выручка млрд год', 53),\n ('год чистый прибыль млрд', 53),\n ('забывать подписаться весь удача', 52),\n ('подписаться весь удача зелёный', 52),\n ('удача зелёный портфель __________________________', 52),\n ('bloomberg ожидать выручка млрд', 52),\n ('прояви_себя_в_пульс пульс_оценить пульс новичок', 51),\n ('зелёный портфель __________________________ учу_в_пульс', 51),\n ('портфель __________________________ учу_в_пульс прояви_себя_в_пульс', 51),\n ('понравиться пост ставить любой', 50),\n ('пост ставить любой реакция', 50),\n ('ставить любой реакция забывать', 50),\n ('любой реакция забывать подписаться', 50),\n ('реакция забывать подписаться весь', 50),\n ('__________________________ учу_в_пульс прояви_себя_в_пульс пульс_оценить',\n  50),\n ('чистый прибыль млрд год', 46),\n ('год год eps год', 45),\n ('год eps год год', 45),\n ('обучение учу_в_пульс прояви_себя_в_пульс пульс_оценить', 44),\n ('обзор ценный бумага другой', 44),\n ('tinkoff investindex динамика tinkoff', 43),\n ('investindex динамика tinkoff investindex', 43),\n ('являться индивидуальный инвестиционный рекомендация', 42)]"
     },
     "execution_count": 100,
     "metadata": {},
     "output_type": "execute_result"
    }
   ],
   "source": [
    "n=4\n",
    "ngrams_4_series = series_lem.apply(lambda x: list(map(' '.join, ngrams(x, n=n))))\n",
    "FreqDist([word for i in ngrams_4_series for word in i]).most_common(100)"
   ],
   "metadata": {
    "collapsed": false
   }
  },
  {
   "cell_type": "code",
   "execution_count": null,
   "outputs": [],
   "source": [],
   "metadata": {
    "collapsed": false
   }
  }
 ],
 "metadata": {
  "kernelspec": {
   "display_name": "Python 3 (ipykernel)",
   "language": "python",
   "name": "python3"
  },
  "language_info": {
   "codemirror_mode": {
    "name": "ipython",
    "version": 3
   },
   "file_extension": ".py",
   "mimetype": "text/x-python",
   "name": "python",
   "nbconvert_exporter": "python",
   "pygments_lexer": "ipython3",
   "version": "3.9.7"
  }
 },
 "nbformat": 4,
 "nbformat_minor": 5
}
