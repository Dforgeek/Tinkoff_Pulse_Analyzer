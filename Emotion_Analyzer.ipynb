{
 "cells": [
  {
   "cell_type": "code",
   "execution_count": 35,
   "id": "66d48a58",
   "metadata": {},
   "outputs": [],
   "source": [
    "import inspect\n",
    "\n",
    "import matplotlib.pyplot as plt\n",
    "import numpy as np\n",
    "import pandas as pd\n",
    "import seaborn as sns\n",
    "import spark as spark"
   ]
  },
  {
   "cell_type": "code",
   "execution_count": 36,
   "id": "e9f9ebd6",
   "metadata": {},
   "outputs": [
    {
     "data": {
      "text/plain": "   Unnamed: 0                                    id                    date  \\\n0           0  95367da2-8313-49c4-81f5-cbb1f8af69be 2023-01-14 17:17:08.793   \n1           1  c179933b-b992-41a8-953c-e8cddce0a277 2023-01-13 16:30:00.000   \n2           2  9ee444e3-0ff1-4622-82b9-6ff7b1d00ec7 2023-01-12 06:50:00.000   \n3           3  4963f23d-f3ef-4c53-903e-74f62b851aab 2023-01-13 16:25:00.000   \n4           4  bedb0a0f-7657-4d27-a1fd-0b8005813eb5 2023-01-12 13:41:00.000   \n\n                                                text            publisher  \\\n0  Что происходит на Мосбирже, останется на Мосби...       Pulse_Official   \n1  В прямом эфире Василий Олейник и Ирина Ахмадул...  Tinkoff_Investments   \n2  Доброе утро! \\nПродолжаем говорить на тематику...           Invest_Dim   \n3  Российский рынок \\n\\nНапоминаем, что по акциям...  Tinkoff_Investments   \n4  📊 Инфляционные ожидания: что такое и зачем их ...               FinDay   \n\n   reaction  comment  \n0       161    111.0  \n1       140     29.0  \n2       315    149.0  \n3        67     15.0  \n4       105     12.0  ",
      "text/html": "<div>\n<style scoped>\n    .dataframe tbody tr th:only-of-type {\n        vertical-align: middle;\n    }\n\n    .dataframe tbody tr th {\n        vertical-align: top;\n    }\n\n    .dataframe thead th {\n        text-align: right;\n    }\n</style>\n<table border=\"1\" class=\"dataframe\">\n  <thead>\n    <tr style=\"text-align: right;\">\n      <th></th>\n      <th>Unnamed: 0</th>\n      <th>id</th>\n      <th>date</th>\n      <th>text</th>\n      <th>publisher</th>\n      <th>reaction</th>\n      <th>comment</th>\n    </tr>\n  </thead>\n  <tbody>\n    <tr>\n      <th>0</th>\n      <td>0</td>\n      <td>95367da2-8313-49c4-81f5-cbb1f8af69be</td>\n      <td>2023-01-14 17:17:08.793</td>\n      <td>Что происходит на Мосбирже, останется на Мосби...</td>\n      <td>Pulse_Official</td>\n      <td>161</td>\n      <td>111.0</td>\n    </tr>\n    <tr>\n      <th>1</th>\n      <td>1</td>\n      <td>c179933b-b992-41a8-953c-e8cddce0a277</td>\n      <td>2023-01-13 16:30:00.000</td>\n      <td>В прямом эфире Василий Олейник и Ирина Ахмадул...</td>\n      <td>Tinkoff_Investments</td>\n      <td>140</td>\n      <td>29.0</td>\n    </tr>\n    <tr>\n      <th>2</th>\n      <td>2</td>\n      <td>9ee444e3-0ff1-4622-82b9-6ff7b1d00ec7</td>\n      <td>2023-01-12 06:50:00.000</td>\n      <td>Доброе утро! \\nПродолжаем говорить на тематику...</td>\n      <td>Invest_Dim</td>\n      <td>315</td>\n      <td>149.0</td>\n    </tr>\n    <tr>\n      <th>3</th>\n      <td>3</td>\n      <td>4963f23d-f3ef-4c53-903e-74f62b851aab</td>\n      <td>2023-01-13 16:25:00.000</td>\n      <td>Российский рынок \\n\\nНапоминаем, что по акциям...</td>\n      <td>Tinkoff_Investments</td>\n      <td>67</td>\n      <td>15.0</td>\n    </tr>\n    <tr>\n      <th>4</th>\n      <td>4</td>\n      <td>bedb0a0f-7657-4d27-a1fd-0b8005813eb5</td>\n      <td>2023-01-12 13:41:00.000</td>\n      <td>📊 Инфляционные ожидания: что такое и зачем их ...</td>\n      <td>FinDay</td>\n      <td>105</td>\n      <td>12.0</td>\n    </tr>\n  </tbody>\n</table>\n</div>"
     },
     "execution_count": 36,
     "metadata": {},
     "output_type": "execute_result"
    }
   ],
   "source": [
    "df = pd.read_excel(\"posts.xlsx\")\n",
    "df.head()"
   ]
  },
  {
   "cell_type": "code",
   "execution_count": 37,
   "outputs": [
    {
     "data": {
      "text/plain": "        Unnamed: 0     reaction       comment\ncount  3450.000000  3450.000000   3418.000000\nmean   1724.500000   161.273043    177.120538\nstd     996.073541   147.782744    937.298884\nmin       0.000000     2.000000      1.000000\n25%     862.250000    65.000000     16.000000\n50%    1724.500000   129.000000     40.000000\n75%    2586.750000   214.000000     91.000000\nmax    3449.000000  1672.000000  12891.000000",
      "text/html": "<div>\n<style scoped>\n    .dataframe tbody tr th:only-of-type {\n        vertical-align: middle;\n    }\n\n    .dataframe tbody tr th {\n        vertical-align: top;\n    }\n\n    .dataframe thead th {\n        text-align: right;\n    }\n</style>\n<table border=\"1\" class=\"dataframe\">\n  <thead>\n    <tr style=\"text-align: right;\">\n      <th></th>\n      <th>Unnamed: 0</th>\n      <th>reaction</th>\n      <th>comment</th>\n    </tr>\n  </thead>\n  <tbody>\n    <tr>\n      <th>count</th>\n      <td>3450.000000</td>\n      <td>3450.000000</td>\n      <td>3418.000000</td>\n    </tr>\n    <tr>\n      <th>mean</th>\n      <td>1724.500000</td>\n      <td>161.273043</td>\n      <td>177.120538</td>\n    </tr>\n    <tr>\n      <th>std</th>\n      <td>996.073541</td>\n      <td>147.782744</td>\n      <td>937.298884</td>\n    </tr>\n    <tr>\n      <th>min</th>\n      <td>0.000000</td>\n      <td>2.000000</td>\n      <td>1.000000</td>\n    </tr>\n    <tr>\n      <th>25%</th>\n      <td>862.250000</td>\n      <td>65.000000</td>\n      <td>16.000000</td>\n    </tr>\n    <tr>\n      <th>50%</th>\n      <td>1724.500000</td>\n      <td>129.000000</td>\n      <td>40.000000</td>\n    </tr>\n    <tr>\n      <th>75%</th>\n      <td>2586.750000</td>\n      <td>214.000000</td>\n      <td>91.000000</td>\n    </tr>\n    <tr>\n      <th>max</th>\n      <td>3449.000000</td>\n      <td>1672.000000</td>\n      <td>12891.000000</td>\n    </tr>\n  </tbody>\n</table>\n</div>"
     },
     "execution_count": 37,
     "metadata": {},
     "output_type": "execute_result"
    }
   ],
   "source": [
    "df.describe()"
   ],
   "metadata": {
    "collapsed": false
   }
  },
  {
   "cell_type": "code",
   "execution_count": 38,
   "outputs": [
    {
     "name": "stdout",
     "output_type": "stream",
     "text": [
      "<class 'pandas.core.frame.DataFrame'>\n",
      "RangeIndex: 3450 entries, 0 to 3449\n",
      "Data columns (total 7 columns):\n",
      " #   Column      Non-Null Count  Dtype         \n",
      "---  ------      --------------  -----         \n",
      " 0   Unnamed: 0  3450 non-null   int64         \n",
      " 1   id          3450 non-null   object        \n",
      " 2   date        3450 non-null   datetime64[ns]\n",
      " 3   text        3450 non-null   object        \n",
      " 4   publisher   3450 non-null   object        \n",
      " 5   reaction    3450 non-null   int64         \n",
      " 6   comment     3418 non-null   float64       \n",
      "dtypes: datetime64[ns](1), float64(1), int64(2), object(3)\n",
      "memory usage: 148.3+ KB\n"
     ]
    }
   ],
   "source": [
    "df.info()"
   ],
   "metadata": {
    "collapsed": false
   }
  },
  {
   "cell_type": "code",
   "execution_count": 39,
   "outputs": [
    {
     "name": "stdout",
     "output_type": "stream",
     "text": [
      "<class 'pandas.core.frame.DataFrame'>\n",
      "RangeIndex: 3450 entries, 0 to 3449\n",
      "Data columns (total 7 columns):\n",
      " #   Column      Non-Null Count  Dtype         \n",
      "---  ------      --------------  -----         \n",
      " 0   Unnamed: 0  3450 non-null   int64         \n",
      " 1   id          3450 non-null   object        \n",
      " 2   date        3450 non-null   datetime64[ns]\n",
      " 3   text        3450 non-null   object        \n",
      " 4   publisher   3450 non-null   object        \n",
      " 5   reaction    3450 non-null   int64         \n",
      " 6   comment     3418 non-null   float64       \n",
      "dtypes: datetime64[ns](1), float64(1), int64(2), object(3)\n",
      "memory usage: 148.3+ KB\n"
     ]
    }
   ],
   "source": [
    "df['text'] = df['text'].astype(str)\n",
    "df.info()"
   ],
   "metadata": {
    "collapsed": false
   }
  },
  {
   "cell_type": "code",
   "execution_count": 40,
   "outputs": [],
   "source": [
    "import re\n",
    "\n",
    "def standardize_text(text):\n",
    "    text = re.sub('([$A-Z])', '', text)\n",
    "    text = text.lower()\n",
    "    text = re.sub('@[^\\s]+', '', text)\n",
    "    text = re.sub('http[^\\s]+', '', text)\n",
    "    text = re.sub('\\$\\d+\\.\\d{2}', '', text)\n",
    "    #text = re.sub(\"[^0-9(),!?@\\'\\`\\\"\\_\\n]\", \" \", text) ломает текст\n",
    "    text = re.sub(r'\\d+', '', text)  # убирает цифры\n",
    "    text = re.sub(\"[^\\w\\s]\",\" \", text)\n",
    "    text = re.sub('\\n', ' ', text)\n",
    "    text = re.sub('\\xa0', ' ', text)\n",
    "    return text\n",
    "\n"
   ],
   "metadata": {
    "collapsed": false
   }
  },
  {
   "cell_type": "code",
   "execution_count": 41,
   "outputs": [
    {
     "data": {
      "text/plain": "'🤓 Японские свечи, топливные брикеты и история о дружбе инвесторов\\n\\nОбсуждаем самые популярные и интересные посты этой недели в Пульсе.\\n\\n🧬В топе по просмотрам сплошь новостные дайджесты. Самые популярные от\\xa0 @Dengy_ne_problema (около 15 тыс. просмотров), @Fomag.ru (13,4 тыс) и @Yverenno (12,1 тыс).\\n\\n🧬Но нам бы хотелось отметить образовательный пост @GilmanovMedia про японские свечи. Наглядно (с картинкой) и просто автор объясняет, как работает инструмент технического анализа и, что важно, не выдает его за панацею. Результат — больше 400 комментов и 100 лайков, 11,5 тыс. просмотров.\\xa0\\n\\n🧬Также в топе по лайкам пост про зависание нашего приложения от @GoodMoneyWork (397 лайков). Все оперативно починили, спасибо, что помогаете нам находить и исправлять ошибки. А также обзор российского рынка на постпраздничной неделе от @Karsotel (348 лайков).\\xa0\\n\\n🧬Бодро ворвалась в Пульс редакция информагентства для трейдеров и инвесторов Биржевик — @BirzhevikOfficial. Ребята пишут годный контент, быстро набирают подписчиков (1957) и лайки (314 у приветственного поста). Так держать!\\xa0\\n\\n🧬Также в топе по количеству лайков (297) @Segezha_Group_official с новостью о том, что компания начала продавать топливные брикеты на Ozon. Здорово, когда большие компании делятся интересными новостями.\\xa0Больше всего комментариев собрал пост @osmagnat с фотками собственноручно приготовленной пиццы — 687. \\n\\n🧬И еще одна интересная история (634 комментария) от @Katy_gav, которая нашла в Пульсе подругу и, как внезапно выяснилось, соседку. Инвестиции сближают)\\xa0'"
     },
     "execution_count": 41,
     "metadata": {},
     "output_type": "execute_result"
    }
   ],
   "source": [
    "df['text'][8]\n"
   ],
   "metadata": {
    "collapsed": false
   }
  },
  {
   "cell_type": "code",
   "execution_count": 42,
   "outputs": [
    {
     "data": {
      "text/plain": "'  японские свечи  топливные брикеты и история о дружбе инвесторов  обсуждаем самые популярные и интересные посты этой недели в пульсе    в топе по просмотрам сплошь новостные дайджесты  самые популярные от    около  тыс  просмотров       тыс  и     тыс     но нам бы хотелось отметить образовательный пост  про японские свечи  наглядно  с картинкой  и просто автор объясняет  как работает инструмент технического анализа и  что важно  не выдает его за панацею  результат   больше  комментов и  лайков    тыс  просмотров     также в топе по лайкам пост про зависание нашего приложения от    лайков   все оперативно починили  спасибо  что помогаете нам находить и исправлять ошибки  а также обзор российского рынка на постпраздничной неделе от    лайков      бодро ворвалась в пульс редакция информагентства для трейдеров и инвесторов биржевик    ребята пишут годный контент  быстро набирают подписчиков    и лайки   у приветственного поста   так держать     также в топе по количеству лайков     с новостью о том  что компания начала продавать топливные брикеты на zon  здорово  когда большие компании делятся интересными новостями  больше всего комментариев собрал пост  с фотками собственноручно приготовленной пиццы        и еще одна интересная история   комментария  от  которая нашла в пульсе подругу и  как внезапно выяснилось  соседку  инвестиции сближают  '"
     },
     "execution_count": 42,
     "metadata": {},
     "output_type": "execute_result"
    }
   ],
   "source": [
    "standardize_text(df['text'][8])"
   ],
   "metadata": {
    "collapsed": false
   }
  },
  {
   "cell_type": "code",
   "execution_count": 42,
   "outputs": [],
   "source": [],
   "metadata": {
    "collapsed": false
   }
  }
 ],
 "metadata": {
  "kernelspec": {
   "display_name": "Python 3 (ipykernel)",
   "language": "python",
   "name": "python3"
  },
  "language_info": {
   "codemirror_mode": {
    "name": "ipython",
    "version": 3
   },
   "file_extension": ".py",
   "mimetype": "text/x-python",
   "name": "python",
   "nbconvert_exporter": "python",
   "pygments_lexer": "ipython3",
   "version": "3.9.6"
  }
 },
 "nbformat": 4,
 "nbformat_minor": 5
}
