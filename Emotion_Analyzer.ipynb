{
 "cells": [
  {
   "cell_type": "code",
   "execution_count": 2,
   "id": "66d48a58",
   "metadata": {},
   "outputs": [],
   "source": [
    "import inspect\n",
    "\n",
    "import matplotlib.pyplot as plt\n",
    "import numpy as np\n",
    "import pandas as pd\n",
    "import seaborn as sns\n",
    "import spark as spark"
   ]
  },
  {
   "cell_type": "code",
   "execution_count": 3,
   "id": "e9f9ebd6",
   "metadata": {},
   "outputs": [
    {
     "data": {
      "text/plain": "   Unnamed: 0                                    id                    date  \\\n0           0  95367da2-8313-49c4-81f5-cbb1f8af69be 2023-01-14 17:17:08.793   \n1           1  c179933b-b992-41a8-953c-e8cddce0a277 2023-01-13 16:30:00.000   \n2           2  9ee444e3-0ff1-4622-82b9-6ff7b1d00ec7 2023-01-12 06:50:00.000   \n3           3  4963f23d-f3ef-4c53-903e-74f62b851aab 2023-01-13 16:25:00.000   \n4           4  bedb0a0f-7657-4d27-a1fd-0b8005813eb5 2023-01-12 13:41:00.000   \n\n                                                text            publisher  \\\n0  Что происходит на Мосбирже, останется на Мосби...       Pulse_Official   \n1  В прямом эфире Василий Олейник и Ирина Ахмадул...  Tinkoff_Investments   \n2  Доброе утро! \\nПродолжаем говорить на тематику...           Invest_Dim   \n3  Российский рынок \\n\\nНапоминаем, что по акциям...  Tinkoff_Investments   \n4  📊 Инфляционные ожидания: что такое и зачем их ...               FinDay   \n\n   reaction  comment  \n0       161    111.0  \n1       140     29.0  \n2       315    149.0  \n3        67     15.0  \n4       105     12.0  ",
      "text/html": "<div>\n<style scoped>\n    .dataframe tbody tr th:only-of-type {\n        vertical-align: middle;\n    }\n\n    .dataframe tbody tr th {\n        vertical-align: top;\n    }\n\n    .dataframe thead th {\n        text-align: right;\n    }\n</style>\n<table border=\"1\" class=\"dataframe\">\n  <thead>\n    <tr style=\"text-align: right;\">\n      <th></th>\n      <th>Unnamed: 0</th>\n      <th>id</th>\n      <th>date</th>\n      <th>text</th>\n      <th>publisher</th>\n      <th>reaction</th>\n      <th>comment</th>\n    </tr>\n  </thead>\n  <tbody>\n    <tr>\n      <th>0</th>\n      <td>0</td>\n      <td>95367da2-8313-49c4-81f5-cbb1f8af69be</td>\n      <td>2023-01-14 17:17:08.793</td>\n      <td>Что происходит на Мосбирже, останется на Мосби...</td>\n      <td>Pulse_Official</td>\n      <td>161</td>\n      <td>111.0</td>\n    </tr>\n    <tr>\n      <th>1</th>\n      <td>1</td>\n      <td>c179933b-b992-41a8-953c-e8cddce0a277</td>\n      <td>2023-01-13 16:30:00.000</td>\n      <td>В прямом эфире Василий Олейник и Ирина Ахмадул...</td>\n      <td>Tinkoff_Investments</td>\n      <td>140</td>\n      <td>29.0</td>\n    </tr>\n    <tr>\n      <th>2</th>\n      <td>2</td>\n      <td>9ee444e3-0ff1-4622-82b9-6ff7b1d00ec7</td>\n      <td>2023-01-12 06:50:00.000</td>\n      <td>Доброе утро! \\nПродолжаем говорить на тематику...</td>\n      <td>Invest_Dim</td>\n      <td>315</td>\n      <td>149.0</td>\n    </tr>\n    <tr>\n      <th>3</th>\n      <td>3</td>\n      <td>4963f23d-f3ef-4c53-903e-74f62b851aab</td>\n      <td>2023-01-13 16:25:00.000</td>\n      <td>Российский рынок \\n\\nНапоминаем, что по акциям...</td>\n      <td>Tinkoff_Investments</td>\n      <td>67</td>\n      <td>15.0</td>\n    </tr>\n    <tr>\n      <th>4</th>\n      <td>4</td>\n      <td>bedb0a0f-7657-4d27-a1fd-0b8005813eb5</td>\n      <td>2023-01-12 13:41:00.000</td>\n      <td>📊 Инфляционные ожидания: что такое и зачем их ...</td>\n      <td>FinDay</td>\n      <td>105</td>\n      <td>12.0</td>\n    </tr>\n  </tbody>\n</table>\n</div>"
     },
     "execution_count": 3,
     "metadata": {},
     "output_type": "execute_result"
    }
   ],
   "source": [
    "df = pd.read_excel(\"posts.xlsx\")\n",
    "df.head()"
   ]
  },
  {
   "cell_type": "code",
   "execution_count": 4,
   "outputs": [
    {
     "data": {
      "text/plain": "        Unnamed: 0     reaction       comment\ncount  3450.000000  3450.000000   3418.000000\nmean   1724.500000   161.273043    177.120538\nstd     996.073541   147.782744    937.298884\nmin       0.000000     2.000000      1.000000\n25%     862.250000    65.000000     16.000000\n50%    1724.500000   129.000000     40.000000\n75%    2586.750000   214.000000     91.000000\nmax    3449.000000  1672.000000  12891.000000",
      "text/html": "<div>\n<style scoped>\n    .dataframe tbody tr th:only-of-type {\n        vertical-align: middle;\n    }\n\n    .dataframe tbody tr th {\n        vertical-align: top;\n    }\n\n    .dataframe thead th {\n        text-align: right;\n    }\n</style>\n<table border=\"1\" class=\"dataframe\">\n  <thead>\n    <tr style=\"text-align: right;\">\n      <th></th>\n      <th>Unnamed: 0</th>\n      <th>reaction</th>\n      <th>comment</th>\n    </tr>\n  </thead>\n  <tbody>\n    <tr>\n      <th>count</th>\n      <td>3450.000000</td>\n      <td>3450.000000</td>\n      <td>3418.000000</td>\n    </tr>\n    <tr>\n      <th>mean</th>\n      <td>1724.500000</td>\n      <td>161.273043</td>\n      <td>177.120538</td>\n    </tr>\n    <tr>\n      <th>std</th>\n      <td>996.073541</td>\n      <td>147.782744</td>\n      <td>937.298884</td>\n    </tr>\n    <tr>\n      <th>min</th>\n      <td>0.000000</td>\n      <td>2.000000</td>\n      <td>1.000000</td>\n    </tr>\n    <tr>\n      <th>25%</th>\n      <td>862.250000</td>\n      <td>65.000000</td>\n      <td>16.000000</td>\n    </tr>\n    <tr>\n      <th>50%</th>\n      <td>1724.500000</td>\n      <td>129.000000</td>\n      <td>40.000000</td>\n    </tr>\n    <tr>\n      <th>75%</th>\n      <td>2586.750000</td>\n      <td>214.000000</td>\n      <td>91.000000</td>\n    </tr>\n    <tr>\n      <th>max</th>\n      <td>3449.000000</td>\n      <td>1672.000000</td>\n      <td>12891.000000</td>\n    </tr>\n  </tbody>\n</table>\n</div>"
     },
     "execution_count": 4,
     "metadata": {},
     "output_type": "execute_result"
    }
   ],
   "source": [
    "df.describe()"
   ],
   "metadata": {
    "collapsed": false
   }
  },
  {
   "cell_type": "code",
   "execution_count": 5,
   "outputs": [
    {
     "name": "stdout",
     "output_type": "stream",
     "text": [
      "<class 'pandas.core.frame.DataFrame'>\n",
      "RangeIndex: 3450 entries, 0 to 3449\n",
      "Data columns (total 7 columns):\n",
      " #   Column      Non-Null Count  Dtype         \n",
      "---  ------      --------------  -----         \n",
      " 0   Unnamed: 0  3450 non-null   int64         \n",
      " 1   id          3450 non-null   object        \n",
      " 2   date        3450 non-null   datetime64[ns]\n",
      " 3   text        3450 non-null   object        \n",
      " 4   publisher   3450 non-null   object        \n",
      " 5   reaction    3450 non-null   int64         \n",
      " 6   comment     3418 non-null   float64       \n",
      "dtypes: datetime64[ns](1), float64(1), int64(2), object(3)\n",
      "memory usage: 148.3+ KB\n"
     ]
    }
   ],
   "source": [
    "df.info()"
   ],
   "metadata": {
    "collapsed": false
   }
  },
  {
   "cell_type": "code",
   "execution_count": 6,
   "outputs": [
    {
     "name": "stdout",
     "output_type": "stream",
     "text": [
      "<class 'pandas.core.frame.DataFrame'>\n",
      "RangeIndex: 3450 entries, 0 to 3449\n",
      "Data columns (total 7 columns):\n",
      " #   Column      Non-Null Count  Dtype         \n",
      "---  ------      --------------  -----         \n",
      " 0   Unnamed: 0  3450 non-null   int64         \n",
      " 1   id          3450 non-null   object        \n",
      " 2   date        3450 non-null   datetime64[ns]\n",
      " 3   text        3450 non-null   object        \n",
      " 4   publisher   3450 non-null   object        \n",
      " 5   reaction    3450 non-null   int64         \n",
      " 6   comment     3418 non-null   float64       \n",
      "dtypes: datetime64[ns](1), float64(1), int64(2), object(3)\n",
      "memory usage: 148.3+ KB\n"
     ]
    }
   ],
   "source": [
    "df['text'] = df['text'].astype(str)\n",
    "df.info()"
   ],
   "metadata": {
    "collapsed": false
   }
  },
  {
   "cell_type": "code",
   "execution_count": 7,
   "outputs": [],
   "source": [
    "import re\n",
    "\n",
    "def standardize_text(text):\n",
    "    text = re.sub('([$A-Z])', '', text)\n",
    "    text = text.lower()\n",
    "    text = re.sub('@[^\\s]+', '', text)\n",
    "    text = re.sub('http[^\\s]+', '', text)\n",
    "    text = re.sub('\\$\\d+\\.\\d{2}', '', text)\n",
    "    #text = re.sub(\"[^0-9(),!?@\\'\\`\\\"\\_\\n]\", \" \", text) ломает текст\n",
    "    text = re.sub(r'\\d+', '', text)  # убирает цифры\n",
    "    text = re.sub(\"[^\\w\\s]\",\" \", text)\n",
    "    text = re.sub('\\n', ' ', text)\n",
    "    return text\n",
    "\n"
   ],
   "metadata": {
    "collapsed": false
   }
  },
  {
   "cell_type": "code",
   "execution_count": 8,
   "outputs": [
    {
     "data": {
      "text/plain": "'В США замедляется инфляция \\n\\nПоказатель инфляции в США в годовом выражении за декабрь составил 6,5%. Данные совпали с ожиданиями аналитиков. Это самый низкий уровень с октября 2021 года.\\n\\nБазовая инфляция (она рассчитывается без учета цен на продукты питания и энергоносители) снизилась до 5,7%. Прогноз также совпал.\\n\\nНапомним, инфляция за ноябрь была на уровне 7,1% в годовом выражении, в октябре — 7,7%.\\n\\nКомментарий аналитика Тинькофф Инвестиций Михаила Иванова\\n\\nКак мы и писали в своей стратегии на этот год, инфляция продолжает замедляться. Этому во многом способствует резкий рост ключевой ставки, который тормозит экономику. Мы по-прежнему ожидаем, что инфляция в США по итогам 2023 года опустится до уровня около 4-5%. В целом сегодняшние значения были ожидаемы рынком, поэтому не принесли существенных изменений в ожидания по ключевой ставке. Рынок ждет, что на ближайшем заседании регулятор замедлит шаг повышения ставки до 25 б. п.\\n\\n#новости #news\\n\\nСтратегия: https://www.tinkoff.ru/invest/research/strategy/2022-december/'"
     },
     "execution_count": 8,
     "metadata": {},
     "output_type": "execute_result"
    }
   ],
   "source": [
    "df['text'][21]\n"
   ],
   "metadata": {
    "collapsed": false
   }
  },
  {
   "cell_type": "code",
   "execution_count": 9,
   "outputs": [
    {
     "data": {
      "text/plain": "'в сша замедляется инфляция   показатель инфляции в сша в годовом выражении за декабрь составил     данные совпали с ожиданиями аналитиков  это самый низкий уровень с октября  года   базовая инфляция  она рассчитывается без учета цен на продукты питания и энергоносители  снизилась до     прогноз также совпал   напомним  инфляция за ноябрь была на уровне    в годовом выражении  в октябре        комментарий аналитика тинькофф инвестиций михаила иванова  как мы и писали в своей стратегии на этот год  инфляция продолжает замедляться  этому во многом способствует резкий рост ключевой ставки  который тормозит экономику  мы по прежнему ожидаем  что инфляция в сша по итогам  года опустится до уровня около     в целом сегодняшние значения были ожидаемы рынком  поэтому не принесли существенных изменений в ожидания по ключевой ставке  рынок ждет  что на ближайшем заседании регулятор замедлит шаг повышения ставки до  б  п    новости  news  стратегия  '"
     },
     "execution_count": 9,
     "metadata": {},
     "output_type": "execute_result"
    }
   ],
   "source": [
    "standardize_text(df['text'][21])"
   ],
   "metadata": {
    "collapsed": false
   }
  },
  {
   "cell_type": "code",
   "execution_count": null,
   "outputs": [],
   "source": [],
   "metadata": {
    "collapsed": false
   }
  }
 ],
 "metadata": {
  "kernelspec": {
   "display_name": "Python 3 (ipykernel)",
   "language": "python",
   "name": "python3"
  },
  "language_info": {
   "codemirror_mode": {
    "name": "ipython",
    "version": 3
   },
   "file_extension": ".py",
   "mimetype": "text/x-python",
   "name": "python",
   "nbconvert_exporter": "python",
   "pygments_lexer": "ipython3",
   "version": "3.9.6"
  }
 },
 "nbformat": 4,
 "nbformat_minor": 5
}
