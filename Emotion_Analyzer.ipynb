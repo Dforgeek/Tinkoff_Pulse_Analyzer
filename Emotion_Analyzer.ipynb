{
 "cells": [
  {
   "cell_type": "code",
   "execution_count": 1,
   "id": "66d48a58",
   "metadata": {},
   "outputs": [
    {
     "name": "stderr",
     "output_type": "stream",
     "text": [
      "[nltk_data] Downloading package punkt to\n",
      "[nltk_data]     C:\\Users\\mikha\\AppData\\Roaming\\nltk_data...\n",
      "[nltk_data]   Package punkt is already up-to-date!\n"
     ]
    },
    {
     "data": {
      "text/plain": "True"
     },
     "execution_count": 1,
     "metadata": {},
     "output_type": "execute_result"
    }
   ],
   "source": [
    "import pandas as pd\n",
    "import nltk\n",
    "import numpy as np\n",
    "import pymorphy2 as pymorphy2\n",
    "import seaborn as sns\n",
    "import inspect\n",
    "import matplotlib.pyplot as plt\n",
    "\n",
    "sns.set(style=\"darkgrid\")\n",
    "\n",
    "import re\n",
    "\n",
    "nltk.download('punkt')"
   ]
  },
  {
   "cell_type": "code",
   "execution_count": 2,
   "id": "e9f9ebd6",
   "metadata": {},
   "outputs": [
    {
     "data": {
      "text/plain": "   Unnamed: 0                                    id                    date  \\\n0           0  95367da2-8313-49c4-81f5-cbb1f8af69be 2023-01-14 17:17:08.793   \n1           1  c179933b-b992-41a8-953c-e8cddce0a277 2023-01-13 16:30:00.000   \n2           2  9ee444e3-0ff1-4622-82b9-6ff7b1d00ec7 2023-01-12 06:50:00.000   \n3           3  4963f23d-f3ef-4c53-903e-74f62b851aab 2023-01-13 16:25:00.000   \n4           4  bedb0a0f-7657-4d27-a1fd-0b8005813eb5 2023-01-12 13:41:00.000   \n\n                                                text            publisher  \\\n0  Что происходит на Мосбирже, останется на Мосби...       Pulse_Official   \n1  В прямом эфире Василий Олейник и Ирина Ахмадул...  Tinkoff_Investments   \n2  Доброе утро! \\nПродолжаем говорить на тематику...           Invest_Dim   \n3  Российский рынок \\n\\nНапоминаем, что по акциям...  Tinkoff_Investments   \n4  📊 Инфляционные ожидания: что такое и зачем их ...               FinDay   \n\n   reaction  comment  \n0       161    111.0  \n1       140     29.0  \n2       315    149.0  \n3        67     15.0  \n4       105     12.0  ",
      "text/html": "<div>\n<style scoped>\n    .dataframe tbody tr th:only-of-type {\n        vertical-align: middle;\n    }\n\n    .dataframe tbody tr th {\n        vertical-align: top;\n    }\n\n    .dataframe thead th {\n        text-align: right;\n    }\n</style>\n<table border=\"1\" class=\"dataframe\">\n  <thead>\n    <tr style=\"text-align: right;\">\n      <th></th>\n      <th>Unnamed: 0</th>\n      <th>id</th>\n      <th>date</th>\n      <th>text</th>\n      <th>publisher</th>\n      <th>reaction</th>\n      <th>comment</th>\n    </tr>\n  </thead>\n  <tbody>\n    <tr>\n      <th>0</th>\n      <td>0</td>\n      <td>95367da2-8313-49c4-81f5-cbb1f8af69be</td>\n      <td>2023-01-14 17:17:08.793</td>\n      <td>Что происходит на Мосбирже, останется на Мосби...</td>\n      <td>Pulse_Official</td>\n      <td>161</td>\n      <td>111.0</td>\n    </tr>\n    <tr>\n      <th>1</th>\n      <td>1</td>\n      <td>c179933b-b992-41a8-953c-e8cddce0a277</td>\n      <td>2023-01-13 16:30:00.000</td>\n      <td>В прямом эфире Василий Олейник и Ирина Ахмадул...</td>\n      <td>Tinkoff_Investments</td>\n      <td>140</td>\n      <td>29.0</td>\n    </tr>\n    <tr>\n      <th>2</th>\n      <td>2</td>\n      <td>9ee444e3-0ff1-4622-82b9-6ff7b1d00ec7</td>\n      <td>2023-01-12 06:50:00.000</td>\n      <td>Доброе утро! \\nПродолжаем говорить на тематику...</td>\n      <td>Invest_Dim</td>\n      <td>315</td>\n      <td>149.0</td>\n    </tr>\n    <tr>\n      <th>3</th>\n      <td>3</td>\n      <td>4963f23d-f3ef-4c53-903e-74f62b851aab</td>\n      <td>2023-01-13 16:25:00.000</td>\n      <td>Российский рынок \\n\\nНапоминаем, что по акциям...</td>\n      <td>Tinkoff_Investments</td>\n      <td>67</td>\n      <td>15.0</td>\n    </tr>\n    <tr>\n      <th>4</th>\n      <td>4</td>\n      <td>bedb0a0f-7657-4d27-a1fd-0b8005813eb5</td>\n      <td>2023-01-12 13:41:00.000</td>\n      <td>📊 Инфляционные ожидания: что такое и зачем их ...</td>\n      <td>FinDay</td>\n      <td>105</td>\n      <td>12.0</td>\n    </tr>\n  </tbody>\n</table>\n</div>"
     },
     "execution_count": 2,
     "metadata": {},
     "output_type": "execute_result"
    }
   ],
   "source": [
    "df = pd.read_excel(\"posts.xlsx\")\n",
    "df.head()"
   ]
  },
  {
   "cell_type": "code",
   "execution_count": 3,
   "id": "d378efaf",
   "metadata": {},
   "outputs": [
    {
     "data": {
      "text/plain": "        Unnamed: 0     reaction       comment\ncount  3450.000000  3450.000000   3418.000000\nmean   1724.500000   161.273043    177.120538\nstd     996.073541   147.782744    937.298884\nmin       0.000000     2.000000      1.000000\n25%     862.250000    65.000000     16.000000\n50%    1724.500000   129.000000     40.000000\n75%    2586.750000   214.000000     91.000000\nmax    3449.000000  1672.000000  12891.000000",
      "text/html": "<div>\n<style scoped>\n    .dataframe tbody tr th:only-of-type {\n        vertical-align: middle;\n    }\n\n    .dataframe tbody tr th {\n        vertical-align: top;\n    }\n\n    .dataframe thead th {\n        text-align: right;\n    }\n</style>\n<table border=\"1\" class=\"dataframe\">\n  <thead>\n    <tr style=\"text-align: right;\">\n      <th></th>\n      <th>Unnamed: 0</th>\n      <th>reaction</th>\n      <th>comment</th>\n    </tr>\n  </thead>\n  <tbody>\n    <tr>\n      <th>count</th>\n      <td>3450.000000</td>\n      <td>3450.000000</td>\n      <td>3418.000000</td>\n    </tr>\n    <tr>\n      <th>mean</th>\n      <td>1724.500000</td>\n      <td>161.273043</td>\n      <td>177.120538</td>\n    </tr>\n    <tr>\n      <th>std</th>\n      <td>996.073541</td>\n      <td>147.782744</td>\n      <td>937.298884</td>\n    </tr>\n    <tr>\n      <th>min</th>\n      <td>0.000000</td>\n      <td>2.000000</td>\n      <td>1.000000</td>\n    </tr>\n    <tr>\n      <th>25%</th>\n      <td>862.250000</td>\n      <td>65.000000</td>\n      <td>16.000000</td>\n    </tr>\n    <tr>\n      <th>50%</th>\n      <td>1724.500000</td>\n      <td>129.000000</td>\n      <td>40.000000</td>\n    </tr>\n    <tr>\n      <th>75%</th>\n      <td>2586.750000</td>\n      <td>214.000000</td>\n      <td>91.000000</td>\n    </tr>\n    <tr>\n      <th>max</th>\n      <td>3449.000000</td>\n      <td>1672.000000</td>\n      <td>12891.000000</td>\n    </tr>\n  </tbody>\n</table>\n</div>"
     },
     "execution_count": 3,
     "metadata": {},
     "output_type": "execute_result"
    }
   ],
   "source": [
    "df.describe()"
   ]
  },
  {
   "cell_type": "code",
   "execution_count": 4,
   "id": "72bdd9c1",
   "metadata": {},
   "outputs": [
    {
     "name": "stdout",
     "output_type": "stream",
     "text": [
      "<class 'pandas.core.frame.DataFrame'>\n",
      "RangeIndex: 3450 entries, 0 to 3449\n",
      "Data columns (total 7 columns):\n",
      " #   Column      Non-Null Count  Dtype         \n",
      "---  ------      --------------  -----         \n",
      " 0   Unnamed: 0  3450 non-null   int64         \n",
      " 1   id          3450 non-null   object        \n",
      " 2   date        3450 non-null   datetime64[ns]\n",
      " 3   text        3450 non-null   object        \n",
      " 4   publisher   3450 non-null   object        \n",
      " 5   reaction    3450 non-null   int64         \n",
      " 6   comment     3418 non-null   float64       \n",
      "dtypes: datetime64[ns](1), float64(1), int64(2), object(3)\n",
      "memory usage: 188.8+ KB\n"
     ]
    }
   ],
   "source": [
    "df.info()"
   ]
  },
  {
   "cell_type": "code",
   "execution_count": 5,
   "id": "a7228354",
   "metadata": {},
   "outputs": [
    {
     "data": {
      "text/plain": "Unnamed: 0     0\nid             0\ndate           0\ntext           0\npublisher      0\nreaction       0\ncomment       32\ndtype: int64"
     },
     "execution_count": 5,
     "metadata": {},
     "output_type": "execute_result"
    }
   ],
   "source": [
    "df.isnull().sum()"
   ]
  },
  {
   "cell_type": "code",
   "execution_count": 6,
   "id": "6d1b2b21",
   "metadata": {},
   "outputs": [],
   "source": [
    "df['comment'] = df['comment'].fillna(0)"
   ]
  },
  {
   "cell_type": "code",
   "execution_count": 7,
   "id": "98736ad1",
   "metadata": {},
   "outputs": [],
   "source": [
    "import re\n",
    "\n",
    "\n",
    "def standardize_text(text):\n",
    "    text = text.lower()\n",
    "    text = re.sub('@[^\\s]+', '', text)\n",
    "    text = re.sub('_', ' ', text)\n",
    "    text = re.sub('http[^\\s]+', '', text)\n",
    "    text = re.sub('\\$\\d+\\.\\d{2}', '', text)\n",
    "    text = re.sub(r'\\d+', '', text)\n",
    "    text = re.sub(\"[^\\w\\s]\", \"\", text)  # возможно плохая\n",
    "    text = re.sub('\\n', ' ', text)\n",
    "    text = re.sub('\\xa0', ' ', text)\n",
    "    text = re.sub(' +', ' ', text)\n",
    "    return text\n",
    "\n"
   ]
  },
  {
   "cell_type": "code",
   "execution_count": 8,
   "id": "fbb3e56b",
   "metadata": {},
   "outputs": [
    {
     "data": {
      "text/plain": "'🤓 Японские свечи, топливные брикеты и история о дружбе инвесторов\\n\\nОбсуждаем самые популярные и интересные посты этой недели в Пульсе.\\n\\n🧬В топе по просмотрам сплошь новостные дайджесты. Самые популярные от\\xa0 @Dengy_ne_problema (около 15 тыс. просмотров), @Fomag.ru (13,4 тыс) и @Yverenno (12,1 тыс).\\n\\n🧬Но нам бы хотелось отметить образовательный пост @GilmanovMedia про японские свечи. Наглядно (с картинкой) и просто автор объясняет, как работает инструмент технического анализа и, что важно, не выдает его за панацею. Результат — больше 400 комментов и 100 лайков, 11,5 тыс. просмотров.\\xa0\\n\\n🧬Также в топе по лайкам пост про зависание нашего приложения от @GoodMoneyWork (397 лайков). Все оперативно починили, спасибо, что помогаете нам находить и исправлять ошибки. А также обзор российского рынка на постпраздничной неделе от @Karsotel (348 лайков).\\xa0\\n\\n🧬Бодро ворвалась в Пульс редакция информагентства для трейдеров и инвесторов Биржевик — @BirzhevikOfficial. Ребята пишут годный контент, быстро набирают подписчиков (1957) и лайки (314 у приветственного поста). Так держать!\\xa0\\n\\n🧬Также в топе по количеству лайков (297) @Segezha_Group_official с новостью о том, что компания начала продавать топливные брикеты на Ozon. Здорово, когда большие компании делятся интересными новостями.\\xa0Больше всего комментариев собрал пост @osmagnat с фотками собственноручно приготовленной пиццы — 687. \\n\\n🧬И еще одна интересная история (634 комментария) от @Katy_gav, которая нашла в Пульсе подругу и, как внезапно выяснилось, соседку. Инвестиции сближают)\\xa0'"
     },
     "execution_count": 8,
     "metadata": {},
     "output_type": "execute_result"
    }
   ],
   "source": [
    "df['text'][8]\n"
   ]
  },
  {
   "cell_type": "code",
   "execution_count": 9,
   "id": "994c619a",
   "metadata": {},
   "outputs": [],
   "source": [
    "df['text'] = df['text'].apply(standardize_text)"
   ]
  },
  {
   "cell_type": "code",
   "execution_count": 10,
   "id": "930671f2",
   "metadata": {},
   "outputs": [
    {
     "data": {
      "text/plain": "' японские свечи топливные брикеты и история о дружбе инвесторов обсуждаем самые популярные и интересные посты этой недели в пульсе в топе по просмотрам сплошь новостные дайджесты самые популярные от около тыс просмотров тыс и тыс но нам бы хотелось отметить образовательный пост про японские свечи наглядно с картинкой и просто автор объясняет как работает инструмент технического анализа и что важно не выдает его за панацею результат больше комментов и лайков тыс просмотров также в топе по лайкам пост про зависание нашего приложения от лайков все оперативно починили спасибо что помогаете нам находить и исправлять ошибки а также обзор российского рынка на постпраздничной неделе от лайков бодро ворвалась в пульс редакция информагентства для трейдеров и инвесторов биржевик ребята пишут годный контент быстро набирают подписчиков и лайки у приветственного поста так держать также в топе по количеству лайков с новостью о том что компания начала продавать топливные брикеты на ozon здорово когда большие компании делятся интересными новостями больше всего комментариев собрал пост с фотками собственноручно приготовленной пиццы и еще одна интересная история комментария от которая нашла в пульсе подругу и как внезапно выяснилось соседку инвестиции сближают '"
     },
     "execution_count": 10,
     "metadata": {},
     "output_type": "execute_result"
    }
   ],
   "source": [
    "df['text'][8]"
   ]
  },
  {
   "cell_type": "markdown",
   "id": "b0b12ba9",
   "metadata": {},
   "source": [
    "# Tokenization with NLTK"
   ]
  },
  {
   "cell_type": "code",
   "execution_count": 11,
   "id": "c4037f04",
   "metadata": {},
   "outputs": [
    {
     "name": "stderr",
     "output_type": "stream",
     "text": [
      "[nltk_data] Downloading package stopwords to\n",
      "[nltk_data]     C:\\Users\\mikha\\AppData\\Roaming\\nltk_data...\n",
      "[nltk_data]   Package stopwords is already up-to-date!\n"
     ]
    }
   ],
   "source": [
    "from nltk.tokenize import word_tokenize\n",
    "\n",
    "nltk.download('stopwords')\n",
    "\n",
    "from nltk.corpus import stopwords"
   ]
  },
  {
   "cell_type": "code",
   "execution_count": 12,
   "id": "4d35b55e",
   "metadata": {},
   "outputs": [
    {
     "data": {
      "text/plain": "   Unnamed: 0                                    id                    date  \\\n0           0  95367da2-8313-49c4-81f5-cbb1f8af69be 2023-01-14 17:17:08.793   \n1           1  c179933b-b992-41a8-953c-e8cddce0a277 2023-01-13 16:30:00.000   \n2           2  9ee444e3-0ff1-4622-82b9-6ff7b1d00ec7 2023-01-12 06:50:00.000   \n3           3  4963f23d-f3ef-4c53-903e-74f62b851aab 2023-01-13 16:25:00.000   \n4           4  bedb0a0f-7657-4d27-a1fd-0b8005813eb5 2023-01-12 13:41:00.000   \n\n                                                text            publisher  \\\n0  что происходит на мосбирже останется на мосбир...       Pulse_Official   \n1  в прямом эфире василий олейник и ирина ахмадул...  Tinkoff_Investments   \n2  доброе утро продолжаем говорить на тематику ма...           Invest_Dim   \n3  российский рынок напоминаем что по акциям сбер...  Tinkoff_Investments   \n4   инфляционные ожидания что такое и зачем их оц...               FinDay   \n\n   reaction  comment                                              token  \n0       161    111.0  [что, происходит, на, мосбирже, останется, на,...  \n1       140     29.0  [в, прямом, эфире, василий, олейник, и, ирина,...  \n2       315    149.0  [доброе, утро, продолжаем, говорить, на, темат...  \n3        67     15.0  [российский, рынок, напоминаем, что, по, акция...  \n4       105     12.0  [инфляционные, ожидания, что, такое, и, зачем,...  ",
      "text/html": "<div>\n<style scoped>\n    .dataframe tbody tr th:only-of-type {\n        vertical-align: middle;\n    }\n\n    .dataframe tbody tr th {\n        vertical-align: top;\n    }\n\n    .dataframe thead th {\n        text-align: right;\n    }\n</style>\n<table border=\"1\" class=\"dataframe\">\n  <thead>\n    <tr style=\"text-align: right;\">\n      <th></th>\n      <th>Unnamed: 0</th>\n      <th>id</th>\n      <th>date</th>\n      <th>text</th>\n      <th>publisher</th>\n      <th>reaction</th>\n      <th>comment</th>\n      <th>token</th>\n    </tr>\n  </thead>\n  <tbody>\n    <tr>\n      <th>0</th>\n      <td>0</td>\n      <td>95367da2-8313-49c4-81f5-cbb1f8af69be</td>\n      <td>2023-01-14 17:17:08.793</td>\n      <td>что происходит на мосбирже останется на мосбир...</td>\n      <td>Pulse_Official</td>\n      <td>161</td>\n      <td>111.0</td>\n      <td>[что, происходит, на, мосбирже, останется, на,...</td>\n    </tr>\n    <tr>\n      <th>1</th>\n      <td>1</td>\n      <td>c179933b-b992-41a8-953c-e8cddce0a277</td>\n      <td>2023-01-13 16:30:00.000</td>\n      <td>в прямом эфире василий олейник и ирина ахмадул...</td>\n      <td>Tinkoff_Investments</td>\n      <td>140</td>\n      <td>29.0</td>\n      <td>[в, прямом, эфире, василий, олейник, и, ирина,...</td>\n    </tr>\n    <tr>\n      <th>2</th>\n      <td>2</td>\n      <td>9ee444e3-0ff1-4622-82b9-6ff7b1d00ec7</td>\n      <td>2023-01-12 06:50:00.000</td>\n      <td>доброе утро продолжаем говорить на тематику ма...</td>\n      <td>Invest_Dim</td>\n      <td>315</td>\n      <td>149.0</td>\n      <td>[доброе, утро, продолжаем, говорить, на, темат...</td>\n    </tr>\n    <tr>\n      <th>3</th>\n      <td>3</td>\n      <td>4963f23d-f3ef-4c53-903e-74f62b851aab</td>\n      <td>2023-01-13 16:25:00.000</td>\n      <td>российский рынок напоминаем что по акциям сбер...</td>\n      <td>Tinkoff_Investments</td>\n      <td>67</td>\n      <td>15.0</td>\n      <td>[российский, рынок, напоминаем, что, по, акция...</td>\n    </tr>\n    <tr>\n      <th>4</th>\n      <td>4</td>\n      <td>bedb0a0f-7657-4d27-a1fd-0b8005813eb5</td>\n      <td>2023-01-12 13:41:00.000</td>\n      <td>инфляционные ожидания что такое и зачем их оц...</td>\n      <td>FinDay</td>\n      <td>105</td>\n      <td>12.0</td>\n      <td>[инфляционные, ожидания, что, такое, и, зачем,...</td>\n    </tr>\n  </tbody>\n</table>\n</div>"
     },
     "execution_count": 12,
     "metadata": {},
     "output_type": "execute_result"
    }
   ],
   "source": [
    "df['token'] = df['text'].apply(word_tokenize)\n",
    "df.head()"
   ]
  },
  {
   "cell_type": "code",
   "execution_count": 13,
   "id": "0f49f2cd",
   "metadata": {},
   "outputs": [
    {
     "name": "stdout",
     "output_type": "stream",
     "text": [
      "898709 words total, with a vocabulary size of 59224\n",
      "Max sentence length is 1768\n"
     ]
    }
   ],
   "source": [
    "all_words = [word for tokens in df[\"token\"] for word in tokens]\n",
    "text_lengths = [len(tokens) for tokens in df[\"token\"]]\n",
    "VOCAB = sorted(list(set(all_words)))\n",
    "\n",
    "print(\"%s words total, with a vocabulary size of %s\" % (len(all_words), len(VOCAB)))\n",
    "print(\"Max sentence length is %s\" % max(text_lengths))"
   ]
  },
  {
   "cell_type": "code",
   "execution_count": 14,
   "id": "2860ffaa",
   "metadata": {},
   "outputs": [
    {
     "data": {
      "text/plain": "<Figure size 800x800 with 1 Axes>",
      "image/png": "[encoded data removed]"
     },
     "metadata": {},
     "output_type": "display_data"
    }
   ],
   "source": [
    "fig = plt.figure(figsize=(8, 8))\n",
    "plt.xlabel('Number of words')\n",
    "plt.ylabel('Count')\n",
    "plt.hist(text_lengths, bins=20)\n",
    "plt.show()"
   ]
  },
  {
   "cell_type": "markdown",
   "id": "8c622cbc",
   "metadata": {},
   "source": [
    "### Remove stop words"
   ]
  },
  {
   "cell_type": "code",
   "execution_count": 15,
   "id": "eb444e24",
   "metadata": {},
   "outputs": [],
   "source": [
    "def remove_stopwords(text, vocab_set):\n",
    "    words = [w for w in text if w not in vocab_set]\n",
    "    return words"
   ]
  },
  {
   "cell_type": "code",
   "execution_count": 16,
   "id": "d1802806",
   "metadata": {},
   "outputs": [],
   "source": [
    "\n",
    "df['token'] = df['token'].apply(lambda x: remove_stopwords(x, stopwords.words('russian')))"
   ]
  },
  {
   "cell_type": "code",
   "execution_count": 17,
   "id": "7365bab2",
   "metadata": {},
   "outputs": [
    {
     "data": {
      "text/plain": "0       [происходит, мосбирже, останется, мосбирже, эг...\n1       [прямом, эфире, василий, олейник, ирина, ахмад...\n2       [доброе, утро, продолжаем, говорить, тематику,...\n3       [российский, рынок, напоминаем, акциям, сбера,...\n4       [инфляционные, ожидания, такое, оценивать, эко...\n                              ...                        \n3445    [продолжаем, публиковать, расписание, финансов...\n3446    [чипы, кризис, нужны, акции, полупроводниковых...\n3447    [году, курс, долларрубль, успел, взлететь, зат...\n3448    [делать, свободными, рублями, депозиты, людей,...\n3449    [гмк, норникель, gmkn, обзор, компании, новых,...\nName: token, Length: 3450, dtype: object"
     },
     "execution_count": 17,
     "metadata": {},
     "output_type": "execute_result"
    }
   ],
   "source": [
    "df['token']"
   ]
  },
  {
   "cell_type": "markdown",
   "id": "f8145a07",
   "metadata": {},
   "source": [
    "### Let's look how many words left after removing stop words"
   ]
  },
  {
   "cell_type": "code",
   "execution_count": 18,
   "id": "d7bf322f",
   "metadata": {},
   "outputs": [
    {
     "name": "stdout",
     "output_type": "stream",
     "text": [
      "636805 words total, with a vocabulary size of 59073\n",
      "Max sentence length is 1298\n"
     ]
    }
   ],
   "source": [
    "all_words_tr = [word for tokens in df[\"token\"] for word in tokens]\n",
    "text_lengths_tr = [len(tokens) for tokens in df[\"token\"]]\n",
    "vocab_tr = sorted(list(set(all_words_tr)))\n",
    "\n",
    "print(\"%s words total, with a vocabulary size of %s\" % (len(all_words_tr), len(vocab_tr)))\n",
    "print(\"Max sentence length is %s\" % max(text_lengths_tr))"
   ]
  },
  {
   "cell_type": "code",
   "execution_count": 19,
   "id": "4136003e",
   "metadata": {},
   "outputs": [
    {
     "data": {
      "text/plain": "<Figure size 800x800 with 1 Axes>",
      "image/png": "[encoded data removed]"
     },
     "metadata": {},
     "output_type": "display_data"
    }
   ],
   "source": [
    "fig = plt.figure(figsize=(8, 8))\n",
    "plt.xlabel('Number of words')\n",
    "plt.ylabel('Count')\n",
    "plt.hist(text_lengths_tr, bins=20)\n",
    "plt.show()"
   ]
  },
  {
   "cell_type": "code",
   "execution_count": 20,
   "id": "d9ecc5ed",
   "metadata": {},
   "outputs": [
    {
     "name": "stdout",
     "output_type": "stream",
     "text": [
      "Word's dropped in total: 261904\n",
      "Word's dropped from vocabulary: 151\n"
     ]
    }
   ],
   "source": [
    "print(\"Word's dropped in total:\", len(all_words) - len(all_words_tr))\n",
    "print(\"Word's dropped from vocabulary:\", len(VOCAB) - len(vocab_tr))"
   ]
  },
  {
   "cell_type": "markdown",
   "id": "77a34be0",
   "metadata": {},
   "source": [
    "### Lemmatization"
   ]
  },
  {
   "cell_type": "code",
   "execution_count": 21,
   "id": "7194ff18",
   "metadata": {},
   "outputs": [],
   "source": [
    "import pymorphy2\n",
    "from pymorphy2 import MorphAnalyzer"
   ]
  },
  {
   "cell_type": "code",
   "execution_count": 22,
   "id": "13e1a571",
   "metadata": {},
   "outputs": [],
   "source": [
    "morph = MorphAnalyzer()\n",
    "\n",
    "\n",
    "def lemmatize(text):\n",
    "    text = [morph.normal_forms(x)[0] for x in text]\n",
    "    return text"
   ]
  },
  {
   "cell_type": "code",
   "execution_count": 23,
   "id": "8a416feb",
   "metadata": {},
   "outputs": [
    {
     "data": {
      "text/plain": "0    [происходить, мосбиржа, остаться, мосбиржа, эг...\n1    [прямой, эфир, василий, олейник, ирина, ахмаду...\n2    [добрый, утро, продолжать, говорить, тематика,...\n3    [российский, рынок, напоминать, акция, сбер, о...\n4    [инфляционный, ожидание, такой, оценивать, эко...\n5    [ценный, бумага, другой, финансовый, инструмен...\n6    [рассказывать, показывать, почему, центробанк,...\n7    [продолжение, легендарный, курс, весь, обещать...\n8    [японский, свеча, топливный, брикет, история, ...\n9    [какой, реальный, исторический, событие, фильм...\nName: token, dtype: object"
     },
     "execution_count": 23,
     "metadata": {},
     "output_type": "execute_result"
    }
   ],
   "source": [
    "series_lem = df['token'].apply(lemmatize)\n",
    "series_lem.head(10)\n"
   ]
  },
  {
   "cell_type": "markdown",
   "id": "3f2d8b96",
   "metadata": {},
   "source": [
    "#### Check words frequency"
   ]
  },
  {
   "cell_type": "code",
   "execution_count": 24,
   "id": "a2ed2750",
   "metadata": {},
   "outputs": [],
   "source": [
    "from nltk.probability import FreqDist"
   ]
  },
  {
   "cell_type": "code",
   "execution_count": 25,
   "id": "a2f8daab",
   "metadata": {},
   "outputs": [
    {
     "data": {
      "text/plain": "['бодрый',\n 'бывать',\n 'индекс',\n 'мосбиржа',\n 'отжиматься',\n 'бросок',\n 'пока',\n 'сам',\n 'знать',\n 'голубой']"
     },
     "execution_count": 25,
     "metadata": {},
     "output_type": "execute_result"
    }
   ],
   "source": [
    "corpus = [word for i in series_lem for word in i]\n",
    "corpus[10:20]"
   ]
  },
  {
   "cell_type": "code",
   "execution_count": 26,
   "id": "d8909399",
   "metadata": {},
   "outputs": [
    {
     "data": {
      "text/plain": "<AxesSubplot:>"
     },
     "execution_count": 26,
     "metadata": {},
     "output_type": "execute_result"
    },
    {
     "data": {
      "text/plain": "<Figure size 640x480 with 1 Axes>",
      "image/png": "[encoded data removed]"
     },
     "metadata": {},
     "output_type": "display_data"
    }
   ],
   "source": [
    "most_common = FreqDist(corpus).most_common(20)\n",
    "words, frequency = [], []\n",
    "for word, count in most_common:\n",
    "    words.append(word)\n",
    "    frequency.append(count)\n",
    "\n",
    "sns.barplot(x=frequency, y=words)"
   ]
  },
  {
   "cell_type": "code",
   "execution_count": 27,
   "id": "f2c40a28",
   "metadata": {},
   "outputs": [
    {
     "data": {
      "text/plain": "[('год', 8519),\n ('компания', 7333),\n ('акция', 7044),\n ('это', 6189),\n ('который', 5092),\n ('рынок', 5052),\n ('цена', 3770),\n ('инвестор', 3733),\n ('бумага', 3624),\n ('пульс', 3262),\n ('свой', 3135),\n ('рост', 2801),\n ('рубль', 2569),\n ('актив', 2402),\n ('такой', 2383),\n ('прибыль', 2338),\n ('финансовый', 2103),\n ('время', 2055),\n ('мочь', 2053),\n ('облигация', 2000),\n ('млрд', 1919),\n ('риск', 1868),\n ('портфель', 1831),\n ('уровень', 1826),\n ('инвестиция', 1783),\n ('также', 1782),\n ('ценный', 1686),\n ('биржа', 1660),\n ('другой', 1620),\n ('день', 1616),\n ('один', 1612),\n ('сделка', 1565),\n ('ставка', 1547),\n ('дивиденд', 1546),\n ('новый', 1521),\n ('быть', 1511),\n ('первый', 1501),\n ('счёт', 1495),\n ('результат', 1492),\n ('российский', 1485),\n ('самый', 1452),\n ('индекс', 1439),\n ('продажа', 1432),\n ('деньга', 1410),\n ('доходность', 1394),\n ('выручка', 1357),\n ('наш', 1333),\n ('ваш', 1328),\n ('стоимость', 1287),\n ('хороший', 1282)]"
     },
     "execution_count": 27,
     "metadata": {},
     "output_type": "execute_result"
    }
   ],
   "source": [
    "FreqDist(corpus).most_common(50)"
   ]
  },
  {
   "cell_type": "markdown",
   "id": "de96533e",
   "metadata": {},
   "source": [
    "We can see, that words like \"**который**\" and \"**это**\" are popular, but will not have impact on model. We should drop them"
   ]
  },
  {
   "cell_type": "code",
   "execution_count": 28,
   "id": "c0df3acf",
   "metadata": {},
   "outputs": [],
   "source": [
    "stop_words = [\"это\", \"который\", \"свой\", 'такой', 'также']\n",
    "series_lem = series_lem.apply(lambda x: remove_stopwords(x, stop_words))"
   ]
  },
  {
   "cell_type": "code",
   "execution_count": 29,
   "outputs": [],
   "source": [
    "df['token_lem'] = series_lem.apply(lambda x: ' '.join(x))\n",
    "df.to_csv('preprocessed_posts.csv', index=False)"
   ],
   "metadata": {
    "collapsed": false
   }
  },
  {
   "cell_type": "markdown",
   "source": [],
   "metadata": {
    "collapsed": false
   }
  },
  {
   "cell_type": "code",
   "execution_count": 30,
   "id": "6b9f99e6",
   "metadata": {},
   "outputs": [
    {
     "data": {
      "text/plain": "[('год', 8519),\n ('компания', 7333),\n ('акция', 7044),\n ('рынок', 5052),\n ('цена', 3770),\n ('инвестор', 3733),\n ('бумага', 3624),\n ('пульс', 3262),\n ('рост', 2801),\n ('рубль', 2569),\n ('актив', 2402),\n ('прибыль', 2338),\n ('финансовый', 2103),\n ('время', 2055),\n ('мочь', 2053),\n ('облигация', 2000),\n ('млрд', 1919),\n ('риск', 1868),\n ('портфель', 1831),\n ('уровень', 1826),\n ('инвестиция', 1783),\n ('ценный', 1686),\n ('биржа', 1660),\n ('другой', 1620),\n ('день', 1616),\n ('один', 1612),\n ('сделка', 1565),\n ('ставка', 1547),\n ('дивиденд', 1546),\n ('новый', 1521),\n ('быть', 1511),\n ('первый', 1501),\n ('счёт', 1495),\n ('результат', 1492),\n ('российский', 1485),\n ('самый', 1452),\n ('индекс', 1439),\n ('продажа', 1432),\n ('деньга', 1410),\n ('доходность', 1394),\n ('выручка', 1357),\n ('наш', 1333),\n ('ваш', 1328),\n ('стоимость', 1287),\n ('хороший', 1282),\n ('стать', 1272),\n ('получить', 1266),\n ('являться', 1263),\n ('сша', 1256),\n ('неделя', 1255),\n ('инструмент', 1249),\n ('месяц', 1249),\n ('доход', 1246),\n ('весь', 1215),\n ('покупка', 1198),\n ('показатель', 1187),\n ('купить', 1184),\n ('квартал', 1184),\n ('вырасти', 1171),\n ('высокий', 1154),\n ('новость', 1148),\n ('млн', 1148),\n ('стратегия', 1118),\n ('тот', 1110),\n ('обзор', 1102),\n ('каждый', 1092),\n ('например', 1069),\n ('расти', 1036),\n ('последний', 1036),\n ('бизнес', 1026),\n ('часть', 1003),\n ('итог', 1003),\n ('банк', 999),\n ('тинькофф', 996),\n ('сумма', 992),\n ('случай', 991),\n ('доллар', 990),\n ('россия', 986),\n ('человек', 971),\n ('инвестиционный', 968),\n ('момент', 940),\n ('торг', 936),\n ('должный', 927),\n ('иметь', 926),\n ('пост', 918),\n ('руб', 918),\n ('этот', 907),\n ('нужно', 904),\n ('объём', 904),\n ('чистый', 888),\n ('дать', 882),\n ('стоить', 880),\n ('больший', 876),\n ('средство', 875),\n ('страна', 875),\n ('инфляция', 867),\n ('крупный', 866),\n ('учить', 863),\n ('фондовый', 845),\n ('цель', 841)]"
     },
     "execution_count": 30,
     "metadata": {},
     "output_type": "execute_result"
    }
   ],
   "source": [
    "corpus = [word for i in series_lem for word in i]\n",
    "FreqDist(corpus).most_common(100)"
   ]
  },
  {
   "cell_type": "code",
   "execution_count": 31,
   "outputs": [
    {
     "data": {
      "text/plain": "[('ценный бумага', 1636),\n ('учить пульс', 830),\n ('проявить пульс', 793),\n ('фондовый рынок', 646),\n ('пульс пульс', 634),\n ('год год', 598),\n ('пульс оценить', 584),\n ('чистый прибыль', 540),\n ('финансовый инструмент', 527),\n ('тинькофф инвестиция', 506),\n ('млрд рубль', 442),\n ('читать обзор', 432),\n ('бумага другой', 425),\n ('новость news', 424),\n ('другой финансовый', 414),\n ('млрд руб', 368),\n ('акция компания', 344),\n ('пульс новичок', 321),\n ('пульс проявить', 320),\n ('народный портфель', 320),\n ('спб биржа', 319),\n ('процентный ставка', 317),\n ('цена акция', 285),\n ('купить продать', 271),\n ('российский рынок', 264),\n ('иностранный ценный', 261),\n ('второй квартал', 255),\n ('денежный средство', 253),\n ('источник новость', 243),\n ('финансовый результат', 229),\n ('инвестиционный идея', 222),\n ('бумага мочь', 219),\n ('индекс мосбиржа', 218),\n ('квартал год', 217),\n ('рост цена', 217),\n ('являться инвестиционный', 212),\n ('продать ценный', 212),\n ('обратить внимание', 211),\n ('упомянуть данный', 208),\n ('данный обзор', 208),\n ('инструмент упомянуть', 207),\n ('ключевой ставка', 207),\n ('обзор привести', 206),\n ('млрд год', 206),\n ('информационный цель', 205),\n ('конец год', 205),\n ('привести исключительно', 204),\n ('исключительно информационный', 204),\n ('идея совет', 204),\n ('цель обзор', 203),\n ('обзор являться', 203),\n ('совет рекомендация', 203),\n ('денежный поток', 203),\n ('рекомендация предложение', 202),\n ('предложение купить', 201),\n ('московский биржа', 201),\n ('первый полугодие', 198),\n ('инструмент уведомлять', 197),\n ('выплата дивиденд', 197),\n ('прошлый неделя', 195),\n ('мочь столкнуться', 194),\n ('уведомлять приобретение', 193),\n ('приобретение владение', 193),\n ('владение иностранный', 193),\n ('брокерский счёт', 191),\n ('столкнуться риск', 190),\n ('риск депозитарный', 190),\n ('депозитарный инфраструктура', 189),\n ('инфраструктура связанный', 189),\n ('связанный геополитический', 189),\n ('участник рынок', 189),\n ('текст дисклеймера', 188),\n ('млн рубль', 188),\n ('зелёный портфель', 185),\n ('последний год', 177),\n ('геополитический ситуация', 175),\n ('темп рост', 174),\n ('начало год', 173),\n ('следующий год', 173),\n ('рынок акция', 173),\n ('прошлое год', 172),\n ('третий квартал', 167),\n ('покупать акция', 166),\n ('составить млрд', 166),\n ('акция облигация', 165),\n ('один самый', 165),\n ('объём торг', 165),\n ('совет директор', 163),\n ('новичок проявить', 162),\n ('рост выручка', 161),\n ('покупка продажа', 160),\n ('весь текст', 159),\n ('пульс учить', 159),\n ('ситуация весь', 158),\n ('стоимость акция', 155),\n ('аналитик тинькофф', 154),\n ('купить акция', 152),\n ('выручка млрд', 148),\n ('хороший день', 148),\n ('больший часть', 147)]"
     },
     "execution_count": 31,
     "metadata": {},
     "output_type": "execute_result"
    }
   ],
   "source": [
    "from nltk import ngrams\n",
    "\n",
    "n = 2\n",
    "ngrams_2_series = series_lem.apply(lambda x: list(map(' '.join, ngrams(x, n=n))))\n",
    "FreqDist([word for i in ngrams_2_series for word in i]).most_common(100)"
   ],
   "metadata": {
    "collapsed": false
   }
  }
 ],
 "metadata": {
  "kernelspec": {
   "display_name": "Python 3 (ipykernel)",
   "language": "python",
   "name": "python3"
  },
  "language_info": {
   "codemirror_mode": {
    "name": "ipython",
    "version": 3
   },
   "file_extension": ".py",
   "mimetype": "text/x-python",
   "name": "python",
   "nbconvert_exporter": "python",
   "pygments_lexer": "ipython3",
   "version": "3.9.7"
  }
 },
 "nbformat": 4,
 "nbformat_minor": 5
}
