{
 "cells": [
  {
   "cell_type": "code",
   "execution_count": 95,
   "id": "66d48a58",
   "metadata": {},
   "outputs": [],
   "source": [
    "import pandas as pd\n",
    "import numpy as np\n",
    "import seaborn as sns\n",
    "import inspect\n",
    "import matplotlib.pyplot as plt"
   ]
  },
  {
   "cell_type": "code",
   "execution_count": 96,
   "id": "e9f9ebd6",
   "metadata": {},
   "outputs": [],
   "source": [
    "df = pd.read_excel(\"posts.xlsx\")"
   ]
  },
  {
   "cell_type": "code",
   "execution_count": 97,
   "id": "30daeae2",
   "metadata": {},
   "outputs": [
    {
     "data": {
      "text/html": [
       "<div>\n",
       "<style scoped>\n",
       "    .dataframe tbody tr th:only-of-type {\n",
       "        vertical-align: middle;\n",
       "    }\n",
       "\n",
       "    .dataframe tbody tr th {\n",
       "        vertical-align: top;\n",
       "    }\n",
       "\n",
       "    .dataframe thead th {\n",
       "        text-align: right;\n",
       "    }\n",
       "</style>\n",
       "<table border=\"1\" class=\"dataframe\">\n",
       "  <thead>\n",
       "    <tr style=\"text-align: right;\">\n",
       "      <th></th>\n",
       "      <th>Unnamed: 0</th>\n",
       "      <th>id</th>\n",
       "      <th>date</th>\n",
       "      <th>text</th>\n",
       "      <th>publisher</th>\n",
       "      <th>reaction</th>\n",
       "      <th>comment</th>\n",
       "    </tr>\n",
       "  </thead>\n",
       "  <tbody>\n",
       "    <tr>\n",
       "      <th>0</th>\n",
       "      <td>0</td>\n",
       "      <td>95367da2-8313-49c4-81f5-cbb1f8af69be</td>\n",
       "      <td>2023-01-14 17:17:08.793</td>\n",
       "      <td>Что происходит на Мосбирже, останется на Мосби...</td>\n",
       "      <td>Pulse_Official</td>\n",
       "      <td>161</td>\n",
       "      <td>111.0</td>\n",
       "    </tr>\n",
       "    <tr>\n",
       "      <th>1</th>\n",
       "      <td>1</td>\n",
       "      <td>c179933b-b992-41a8-953c-e8cddce0a277</td>\n",
       "      <td>2023-01-13 16:30:00.000</td>\n",
       "      <td>В прямом эфире Василий Олейник и Ирина Ахмадул...</td>\n",
       "      <td>Tinkoff_Investments</td>\n",
       "      <td>140</td>\n",
       "      <td>29.0</td>\n",
       "    </tr>\n",
       "    <tr>\n",
       "      <th>2</th>\n",
       "      <td>2</td>\n",
       "      <td>9ee444e3-0ff1-4622-82b9-6ff7b1d00ec7</td>\n",
       "      <td>2023-01-12 06:50:00.000</td>\n",
       "      <td>Доброе утро! \\nПродолжаем говорить на тематику...</td>\n",
       "      <td>Invest_Dim</td>\n",
       "      <td>315</td>\n",
       "      <td>149.0</td>\n",
       "    </tr>\n",
       "    <tr>\n",
       "      <th>3</th>\n",
       "      <td>3</td>\n",
       "      <td>4963f23d-f3ef-4c53-903e-74f62b851aab</td>\n",
       "      <td>2023-01-13 16:25:00.000</td>\n",
       "      <td>Российский рынок \\n\\nНапоминаем, что по акциям...</td>\n",
       "      <td>Tinkoff_Investments</td>\n",
       "      <td>67</td>\n",
       "      <td>15.0</td>\n",
       "    </tr>\n",
       "    <tr>\n",
       "      <th>4</th>\n",
       "      <td>4</td>\n",
       "      <td>bedb0a0f-7657-4d27-a1fd-0b8005813eb5</td>\n",
       "      <td>2023-01-12 13:41:00.000</td>\n",
       "      <td>📊 Инфляционные ожидания: что такое и зачем их ...</td>\n",
       "      <td>FinDay</td>\n",
       "      <td>105</td>\n",
       "      <td>12.0</td>\n",
       "    </tr>\n",
       "  </tbody>\n",
       "</table>\n",
       "</div>"
      ],
      "text/plain": [
       "   Unnamed: 0                                    id                    date  \\\n",
       "0           0  95367da2-8313-49c4-81f5-cbb1f8af69be 2023-01-14 17:17:08.793   \n",
       "1           1  c179933b-b992-41a8-953c-e8cddce0a277 2023-01-13 16:30:00.000   \n",
       "2           2  9ee444e3-0ff1-4622-82b9-6ff7b1d00ec7 2023-01-12 06:50:00.000   \n",
       "3           3  4963f23d-f3ef-4c53-903e-74f62b851aab 2023-01-13 16:25:00.000   \n",
       "4           4  bedb0a0f-7657-4d27-a1fd-0b8005813eb5 2023-01-12 13:41:00.000   \n",
       "\n",
       "                                                text            publisher  \\\n",
       "0  Что происходит на Мосбирже, останется на Мосби...       Pulse_Official   \n",
       "1  В прямом эфире Василий Олейник и Ирина Ахмадул...  Tinkoff_Investments   \n",
       "2  Доброе утро! \\nПродолжаем говорить на тематику...           Invest_Dim   \n",
       "3  Российский рынок \\n\\nНапоминаем, что по акциям...  Tinkoff_Investments   \n",
       "4  📊 Инфляционные ожидания: что такое и зачем их ...               FinDay   \n",
       "\n",
       "   reaction  comment  \n",
       "0       161    111.0  \n",
       "1       140     29.0  \n",
       "2       315    149.0  \n",
       "3        67     15.0  \n",
       "4       105     12.0  "
      ]
     },
     "execution_count": 97,
     "metadata": {},
     "output_type": "execute_result"
    }
   ],
   "source": [
    "df.head()"
   ]
  },
  {
   "cell_type": "code",
   "execution_count": 98,
   "id": "08fcefe3",
   "metadata": {},
   "outputs": [
    {
     "data": {
      "text/html": [
       "<div>\n",
       "<style scoped>\n",
       "    .dataframe tbody tr th:only-of-type {\n",
       "        vertical-align: middle;\n",
       "    }\n",
       "\n",
       "    .dataframe tbody tr th {\n",
       "        vertical-align: top;\n",
       "    }\n",
       "\n",
       "    .dataframe thead th {\n",
       "        text-align: right;\n",
       "    }\n",
       "</style>\n",
       "<table border=\"1\" class=\"dataframe\">\n",
       "  <thead>\n",
       "    <tr style=\"text-align: right;\">\n",
       "      <th></th>\n",
       "      <th>Unnamed: 0</th>\n",
       "      <th>reaction</th>\n",
       "      <th>comment</th>\n",
       "    </tr>\n",
       "  </thead>\n",
       "  <tbody>\n",
       "    <tr>\n",
       "      <th>count</th>\n",
       "      <td>3450.000000</td>\n",
       "      <td>3450.000000</td>\n",
       "      <td>3418.000000</td>\n",
       "    </tr>\n",
       "    <tr>\n",
       "      <th>mean</th>\n",
       "      <td>1724.500000</td>\n",
       "      <td>161.273043</td>\n",
       "      <td>177.120538</td>\n",
       "    </tr>\n",
       "    <tr>\n",
       "      <th>std</th>\n",
       "      <td>996.073541</td>\n",
       "      <td>147.782744</td>\n",
       "      <td>937.298884</td>\n",
       "    </tr>\n",
       "    <tr>\n",
       "      <th>min</th>\n",
       "      <td>0.000000</td>\n",
       "      <td>2.000000</td>\n",
       "      <td>1.000000</td>\n",
       "    </tr>\n",
       "    <tr>\n",
       "      <th>25%</th>\n",
       "      <td>862.250000</td>\n",
       "      <td>65.000000</td>\n",
       "      <td>16.000000</td>\n",
       "    </tr>\n",
       "    <tr>\n",
       "      <th>50%</th>\n",
       "      <td>1724.500000</td>\n",
       "      <td>129.000000</td>\n",
       "      <td>40.000000</td>\n",
       "    </tr>\n",
       "    <tr>\n",
       "      <th>75%</th>\n",
       "      <td>2586.750000</td>\n",
       "      <td>214.000000</td>\n",
       "      <td>91.000000</td>\n",
       "    </tr>\n",
       "    <tr>\n",
       "      <th>max</th>\n",
       "      <td>3449.000000</td>\n",
       "      <td>1672.000000</td>\n",
       "      <td>12891.000000</td>\n",
       "    </tr>\n",
       "  </tbody>\n",
       "</table>\n",
       "</div>"
      ],
      "text/plain": [
       "        Unnamed: 0     reaction       comment\n",
       "count  3450.000000  3450.000000   3418.000000\n",
       "mean   1724.500000   161.273043    177.120538\n",
       "std     996.073541   147.782744    937.298884\n",
       "min       0.000000     2.000000      1.000000\n",
       "25%     862.250000    65.000000     16.000000\n",
       "50%    1724.500000   129.000000     40.000000\n",
       "75%    2586.750000   214.000000     91.000000\n",
       "max    3449.000000  1672.000000  12891.000000"
      ]
     },
     "execution_count": 98,
     "metadata": {},
     "output_type": "execute_result"
    }
   ],
   "source": [
    "df.describe()"
   ]
  },
  {
   "cell_type": "code",
   "execution_count": 99,
   "id": "da2ac54d",
   "metadata": {},
   "outputs": [
    {
     "name": "stdout",
     "output_type": "stream",
     "text": [
      "<class 'pandas.core.frame.DataFrame'>\n",
      "RangeIndex: 3450 entries, 0 to 3449\n",
      "Data columns (total 7 columns):\n",
      " #   Column      Non-Null Count  Dtype         \n",
      "---  ------      --------------  -----         \n",
      " 0   Unnamed: 0  3450 non-null   int64         \n",
      " 1   id          3450 non-null   object        \n",
      " 2   date        3450 non-null   datetime64[ns]\n",
      " 3   text        3450 non-null   object        \n",
      " 4   publisher   3450 non-null   object        \n",
      " 5   reaction    3450 non-null   int64         \n",
      " 6   comment     3418 non-null   float64       \n",
      "dtypes: datetime64[ns](1), float64(1), int64(2), object(3)\n",
      "memory usage: 188.8+ KB\n"
     ]
    }
   ],
   "source": [
    "df.info()"
   ]
  },
  {
   "cell_type": "code",
   "execution_count": 100,
   "id": "176781a2",
   "metadata": {},
   "outputs": [],
   "source": [
    "df['text'] = df['text'].astype(str)"
   ]
  },
  {
   "cell_type": "code",
   "execution_count": 101,
   "id": "27d3105e",
   "metadata": {},
   "outputs": [
    {
     "name": "stdout",
     "output_type": "stream",
     "text": [
      "<class 'pandas.core.frame.DataFrame'>\n",
      "RangeIndex: 3450 entries, 0 to 3449\n",
      "Data columns (total 7 columns):\n",
      " #   Column      Non-Null Count  Dtype         \n",
      "---  ------      --------------  -----         \n",
      " 0   Unnamed: 0  3450 non-null   int64         \n",
      " 1   id          3450 non-null   object        \n",
      " 2   date        3450 non-null   datetime64[ns]\n",
      " 3   text        3450 non-null   object        \n",
      " 4   publisher   3450 non-null   object        \n",
      " 5   reaction    3450 non-null   int64         \n",
      " 6   comment     3418 non-null   float64       \n",
      "dtypes: datetime64[ns](1), float64(1), int64(2), object(3)\n",
      "memory usage: 188.8+ KB\n"
     ]
    }
   ],
   "source": [
    "df.info()"
   ]
  },
  {
   "cell_type": "code",
   "execution_count": 102,
   "id": "afff45b9",
   "metadata": {},
   "outputs": [
    {
     "data": {
      "text/plain": [
       "Unnamed: 0     0\n",
       "id             0\n",
       "date           0\n",
       "text           0\n",
       "publisher      0\n",
       "reaction       0\n",
       "comment       32\n",
       "dtype: int64"
      ]
     },
     "execution_count": 102,
     "metadata": {},
     "output_type": "execute_result"
    }
   ],
   "source": [
    "df.isnull().sum()"
   ]
  },
  {
   "cell_type": "code",
   "execution_count": 103,
   "id": "0d22f671",
   "metadata": {
    "scrolled": false
   },
   "outputs": [
    {
     "data": {
      "text/html": [
       "<div>\n",
       "<style scoped>\n",
       "    .dataframe tbody tr th:only-of-type {\n",
       "        vertical-align: middle;\n",
       "    }\n",
       "\n",
       "    .dataframe tbody tr th {\n",
       "        vertical-align: top;\n",
       "    }\n",
       "\n",
       "    .dataframe thead th {\n",
       "        text-align: right;\n",
       "    }\n",
       "</style>\n",
       "<table border=\"1\" class=\"dataframe\">\n",
       "  <thead>\n",
       "    <tr style=\"text-align: right;\">\n",
       "      <th></th>\n",
       "      <th>Unnamed: 0</th>\n",
       "      <th>id</th>\n",
       "      <th>date</th>\n",
       "      <th>text</th>\n",
       "      <th>publisher</th>\n",
       "      <th>reaction</th>\n",
       "      <th>comment</th>\n",
       "    </tr>\n",
       "  </thead>\n",
       "  <tbody>\n",
       "    <tr>\n",
       "      <th>153</th>\n",
       "      <td>153</td>\n",
       "      <td>251afec9-0bad-4ed2-b740-c7a2d6fd5d02</td>\n",
       "      <td>2023-01-01 23:13:00</td>\n",
       "      <td>Время-финансы-инвестиции. Почему время главный...</td>\n",
       "      <td>dmz91</td>\n",
       "      <td>6</td>\n",
       "      <td>NaN</td>\n",
       "    </tr>\n",
       "    <tr>\n",
       "      <th>154</th>\n",
       "      <td>154</td>\n",
       "      <td>bb171d57-3038-481c-9d58-716f8ab999c6</td>\n",
       "      <td>2023-01-01 23:11:00</td>\n",
       "      <td>Время-финансы-инвестиции. Почему время главный...</td>\n",
       "      <td>dmz91</td>\n",
       "      <td>6</td>\n",
       "      <td>NaN</td>\n",
       "    </tr>\n",
       "    <tr>\n",
       "      <th>286</th>\n",
       "      <td>286</td>\n",
       "      <td>da92e5f3-e814-4742-a2b1-02c169d157ae</td>\n",
       "      <td>2022-12-23 10:50:00</td>\n",
       "      <td>🔥ТЕХНИЧЕСКИЙ и ФУНДАМЕНТАЛЬНЫЙ анализ. Их разл...</td>\n",
       "      <td>VASILEV.INVEST</td>\n",
       "      <td>8</td>\n",
       "      <td>NaN</td>\n",
       "    </tr>\n",
       "  </tbody>\n",
       "</table>\n",
       "</div>"
      ],
      "text/plain": [
       "     Unnamed: 0                                    id                date  \\\n",
       "153         153  251afec9-0bad-4ed2-b740-c7a2d6fd5d02 2023-01-01 23:13:00   \n",
       "154         154  bb171d57-3038-481c-9d58-716f8ab999c6 2023-01-01 23:11:00   \n",
       "286         286  da92e5f3-e814-4742-a2b1-02c169d157ae 2022-12-23 10:50:00   \n",
       "\n",
       "                                                  text       publisher  \\\n",
       "153  Время-финансы-инвестиции. Почему время главный...           dmz91   \n",
       "154  Время-финансы-инвестиции. Почему время главный...           dmz91   \n",
       "286  🔥ТЕХНИЧЕСКИЙ и ФУНДАМЕНТАЛЬНЫЙ анализ. Их разл...  VASILEV.INVEST   \n",
       "\n",
       "     reaction  comment  \n",
       "153         6      NaN  \n",
       "154         6      NaN  \n",
       "286         8      NaN  "
      ]
     },
     "execution_count": 103,
     "metadata": {},
     "output_type": "execute_result"
    }
   ],
   "source": [
    "df[df['comment'].isnull()].head(3)"
   ]
  },
  {
   "cell_type": "code",
   "execution_count": 104,
   "id": "235ae065",
   "metadata": {},
   "outputs": [
    {
     "name": "stdout",
     "output_type": "stream",
     "text": [
      "This is a string with a link \n"
     ]
    }
   ],
   "source": [
    "import re\n",
    "\n",
    "example_string = \"This is a string with a link http://www.example.com\"\n",
    "\n",
    "cleaned_string = re.sub(r'http\\S+', '', example_string)\n",
    "print(cleaned_string)"
   ]
  },
  {
   "cell_type": "code",
   "execution_count": 105,
   "id": "6d84a72b",
   "metadata": {},
   "outputs": [
    {
     "name": "stdout",
     "output_type": "stream",
     "text": [
      "This is a string with a mention \n"
     ]
    }
   ],
   "source": [
    "example_string = \"This is a string with a mention @username\"\n",
    "\n",
    "cleaned_string = re.sub(r\"@\\S+\", \"\", example_string)\n",
    "print(cleaned_string)"
   ]
  },
  {
   "cell_type": "code",
   "execution_count": 106,
   "id": "a30e9724",
   "metadata": {},
   "outputs": [
    {
     "name": "stdout",
     "output_type": "stream",
     "text": [
      "this is a string with a mention @username\n"
     ]
    }
   ],
   "source": [
    "example_string = \"This is a string with a mention @username\"\n",
    "\n",
    "cleaned_string = example_string.lower()\n",
    "print(cleaned_string)"
   ]
  },
  {
   "cell_type": "code",
   "execution_count": 107,
   "id": "43704209",
   "metadata": {},
   "outputs": [
    {
     "name": "stdout",
     "output_type": "stream",
     "text": [
      "This is a string with a mention username\n"
     ]
    }
   ],
   "source": [
    "example_string = \"This is a string with a mention @username\"\n",
    "\n",
    "cleaned_string = example_string.replace(r\"@\", \"\")\n",
    "print(cleaned_string)"
   ]
  },
  {
   "cell_type": "code",
   "execution_count": 108,
   "id": "9b821b83",
   "metadata": {},
   "outputs": [],
   "source": [
    "# Плохая функция, снесла весь текст\n",
    "# def standardize_text1(df, text_field):\n",
    "#     df[text_field] = df[text_field].str.replace(r\"http\\S+\", \"\")\n",
    "#     df[text_field] = df[text_field].str.replace(r\"http\", \"\")\n",
    "#     df[text_field] = df[text_field].str.replace(r\"@\\S+\", \"\")\n",
    "#     df[text_field] = df[text_field].str.replace(r\"[^A-Za-z0-9(),!?@\\'\\`\\\"\\_\\n]\", \" \")\n",
    "#     df[text_field] = df[text_field].str.replace(r\"@\", \"at\")\n",
    "#     df[text_field] = df[text_field].str.lower()\n",
    "#     return df\n",
    "\n",
    "# df = standardize_text1(df, \"text\")"
   ]
  },
  {
   "cell_type": "code",
   "execution_count": 109,
   "id": "1efff8ab",
   "metadata": {},
   "outputs": [
    {
     "data": {
      "text/plain": [
       "'Доброе утро! \\nПродолжаем говорить на тематику Манипулирования рынком. \\n\\nВчера поговорили с Вами на тему: Наказания в США 🇺🇸 по инсайдерской торговле или манипулированием рынка 📊 \\n\\n•Чтобы не потерять этот пост, прикрепляю ссылку: https://www.tinkoff.ru/invest/social/profile/Invest_Dim/366f8558-1b7d-4b8d-a358-2afb9a3aefeb?utm_source=share\\n\\nНемного напомню: \\n📌 Штраф за такого рода преступление в США 🇺🇸 может быть в разы больше, чем размер полученных денежных средств от этой деятельности 💸\\u2028А в тюрьму можно сесть на срок до 20 лет🧑🏼\\u200d⚖️\\n\\n 📌 Сегодня предлагаю ознакомится также с одним интересным судебным делом за инсайдерскую торговлю 💵\\n\\n•13.10.2011 г Федеральный суд Манхэттена вынес приговор Раджа Раджаратнама – владелец хедж-фонда Galleon Group, в виде 11 лет реального лишения свободы 🧑🏼\\u200d⚖️\\n\\n📌 Его признали виновным в связи с использованием инсайдерской информации. При этом сам миллиардер в свое оправдание заявил, что использовался сведениями, представленными в открытом доступе 📰 \\n\\n❗️Судья 🧑🏼\\u200d⚖️ вынес ему один из самых суровых приговоров в истории процессов над инсайдерами в 🇺🇸 США❗️\\n\\nДавайте переместимся на некоторые время назад ⏪ \\nВ 1977 году Раджа основал свою компанию Galleon Group. \\n•В компании очень любили своих сотрудников 🧑\\u200d💼 поэтому не жалели денег 💵 и по четвергам сотрудникам офиса делали массаж, были также и бурные корпоративы) на 10 летние компании Раджа вообще арендовал целый остров 🏝️ на неделю, чтобы как следует отметить 🎉 \\n\\n📌 Вообще читая эту информацию, как в компании'"
      ]
     },
     "execution_count": 109,
     "metadata": {},
     "output_type": "execute_result"
    }
   ],
   "source": [
    "df['text'][2]"
   ]
  },
  {
   "cell_type": "code",
   "execution_count": 116,
   "id": "a2d61ada",
   "metadata": {},
   "outputs": [],
   "source": [
    "import re\n",
    "\n",
    "def standardize_text(text):\n",
    "    text = re.sub('@[^\\s]+', '', text)\n",
    "    text = re.sub('http[^\\s]+', '', text)\n",
    "    #text = re.sub(\"[^0-9(),!?@\\'\\`\\\"\\_\\n]\", \" \", text) ломает текст\n",
    "    text = re.sub(r'\\d+', '', text)  # убирает цифры\n",
    "    text = re.sub(\"[^\\w\\s]\",\"\", text)\n",
    "    text = re.sub('\\n', '', text)\n",
    "    text = text.lower()\n",
    "    return text\n",
    "\n",
    "df['text'] = df['text'].apply(standardize_text)"
   ]
  },
  {
   "cell_type": "code",
   "execution_count": 121,
   "id": "9d3d8f0e",
   "metadata": {},
   "outputs": [
    {
     "data": {
      "text/plain": [
       "'рассказываем и\\xa0показываем почему центробанк может не\\xa0оправдать надежд инвесторов читать обзор'"
      ]
     },
     "execution_count": 121,
     "metadata": {},
     "output_type": "execute_result"
    }
   ],
   "source": [
    "df['text'][6]"
   ]
  },
  {
   "cell_type": "code",
   "execution_count": null,
   "id": "47eda470",
   "metadata": {},
   "outputs": [],
   "source": []
  }
 ],
 "metadata": {
  "kernelspec": {
   "display_name": "Python 3 (ipykernel)",
   "language": "python",
   "name": "python3"
  },
  "language_info": {
   "codemirror_mode": {
    "name": "ipython",
    "version": 3
   },
   "file_extension": ".py",
   "mimetype": "text/x-python",
   "name": "python",
   "nbconvert_exporter": "python",
   "pygments_lexer": "ipython3",
   "version": "3.9.7"
  }
 },
 "nbformat": 4,
 "nbformat_minor": 5
}
