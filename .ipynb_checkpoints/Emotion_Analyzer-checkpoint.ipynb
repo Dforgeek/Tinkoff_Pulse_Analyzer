{
 "cells": [
  {
   "cell_type": "code",
   "execution_count": 30,
   "id": "66d48a58",
   "metadata": {},
   "outputs": [
    {
     "name": "stderr",
     "output_type": "stream",
     "text": [
      "[nltk_data] Downloading package punkt to\n",
      "[nltk_data]     C:\\Users\\mikha\\AppData\\Roaming\\nltk_data...\n",
      "[nltk_data]   Package punkt is already up-to-date!\n"
     ]
    },
    {
     "data": {
      "text/plain": [
       "True"
      ]
     },
     "execution_count": 30,
     "metadata": {},
     "output_type": "execute_result"
    }
   ],
   "source": [
    "import pandas as pd\n",
    "import nltk\n",
    "import numpy as np\n",
    "import seaborn as sns\n",
    "import inspect\n",
    "import matplotlib.pyplot as plt\n",
    "\n",
    "%matplotlib inline\n",
    "sns.set(style=\"darkgrid\")\n",
    "\n",
    "import re\n",
    "\n",
    "nltk.download('punkt')"
   ]
  },
  {
   "cell_type": "code",
   "execution_count": 31,
   "id": "e9f9ebd6",
   "metadata": {},
   "outputs": [
    {
     "data": {
      "text/html": [
       "<div>\n",
       "<style scoped>\n",
       "    .dataframe tbody tr th:only-of-type {\n",
       "        vertical-align: middle;\n",
       "    }\n",
       "\n",
       "    .dataframe tbody tr th {\n",
       "        vertical-align: top;\n",
       "    }\n",
       "\n",
       "    .dataframe thead th {\n",
       "        text-align: right;\n",
       "    }\n",
       "</style>\n",
       "<table border=\"1\" class=\"dataframe\">\n",
       "  <thead>\n",
       "    <tr style=\"text-align: right;\">\n",
       "      <th></th>\n",
       "      <th>Unnamed: 0</th>\n",
       "      <th>id</th>\n",
       "      <th>date</th>\n",
       "      <th>text</th>\n",
       "      <th>publisher</th>\n",
       "      <th>reaction</th>\n",
       "      <th>comment</th>\n",
       "    </tr>\n",
       "  </thead>\n",
       "  <tbody>\n",
       "    <tr>\n",
       "      <th>0</th>\n",
       "      <td>0</td>\n",
       "      <td>95367da2-8313-49c4-81f5-cbb1f8af69be</td>\n",
       "      <td>2023-01-14 17:17:08.793</td>\n",
       "      <td>Что происходит на Мосбирже, останется на Мосби...</td>\n",
       "      <td>Pulse_Official</td>\n",
       "      <td>161</td>\n",
       "      <td>111.0</td>\n",
       "    </tr>\n",
       "    <tr>\n",
       "      <th>1</th>\n",
       "      <td>1</td>\n",
       "      <td>c179933b-b992-41a8-953c-e8cddce0a277</td>\n",
       "      <td>2023-01-13 16:30:00.000</td>\n",
       "      <td>В прямом эфире Василий Олейник и Ирина Ахмадул...</td>\n",
       "      <td>Tinkoff_Investments</td>\n",
       "      <td>140</td>\n",
       "      <td>29.0</td>\n",
       "    </tr>\n",
       "    <tr>\n",
       "      <th>2</th>\n",
       "      <td>2</td>\n",
       "      <td>9ee444e3-0ff1-4622-82b9-6ff7b1d00ec7</td>\n",
       "      <td>2023-01-12 06:50:00.000</td>\n",
       "      <td>Доброе утро! \\nПродолжаем говорить на тематику...</td>\n",
       "      <td>Invest_Dim</td>\n",
       "      <td>315</td>\n",
       "      <td>149.0</td>\n",
       "    </tr>\n",
       "    <tr>\n",
       "      <th>3</th>\n",
       "      <td>3</td>\n",
       "      <td>4963f23d-f3ef-4c53-903e-74f62b851aab</td>\n",
       "      <td>2023-01-13 16:25:00.000</td>\n",
       "      <td>Российский рынок \\n\\nНапоминаем, что по акциям...</td>\n",
       "      <td>Tinkoff_Investments</td>\n",
       "      <td>67</td>\n",
       "      <td>15.0</td>\n",
       "    </tr>\n",
       "    <tr>\n",
       "      <th>4</th>\n",
       "      <td>4</td>\n",
       "      <td>bedb0a0f-7657-4d27-a1fd-0b8005813eb5</td>\n",
       "      <td>2023-01-12 13:41:00.000</td>\n",
       "      <td>📊 Инфляционные ожидания: что такое и зачем их ...</td>\n",
       "      <td>FinDay</td>\n",
       "      <td>105</td>\n",
       "      <td>12.0</td>\n",
       "    </tr>\n",
       "  </tbody>\n",
       "</table>\n",
       "</div>"
      ],
      "text/plain": [
       "   Unnamed: 0                                    id                    date  \\\n",
       "0           0  95367da2-8313-49c4-81f5-cbb1f8af69be 2023-01-14 17:17:08.793   \n",
       "1           1  c179933b-b992-41a8-953c-e8cddce0a277 2023-01-13 16:30:00.000   \n",
       "2           2  9ee444e3-0ff1-4622-82b9-6ff7b1d00ec7 2023-01-12 06:50:00.000   \n",
       "3           3  4963f23d-f3ef-4c53-903e-74f62b851aab 2023-01-13 16:25:00.000   \n",
       "4           4  bedb0a0f-7657-4d27-a1fd-0b8005813eb5 2023-01-12 13:41:00.000   \n",
       "\n",
       "                                                text            publisher  \\\n",
       "0  Что происходит на Мосбирже, останется на Мосби...       Pulse_Official   \n",
       "1  В прямом эфире Василий Олейник и Ирина Ахмадул...  Tinkoff_Investments   \n",
       "2  Доброе утро! \\nПродолжаем говорить на тематику...           Invest_Dim   \n",
       "3  Российский рынок \\n\\nНапоминаем, что по акциям...  Tinkoff_Investments   \n",
       "4  📊 Инфляционные ожидания: что такое и зачем их ...               FinDay   \n",
       "\n",
       "   reaction  comment  \n",
       "0       161    111.0  \n",
       "1       140     29.0  \n",
       "2       315    149.0  \n",
       "3        67     15.0  \n",
       "4       105     12.0  "
      ]
     },
     "execution_count": 31,
     "metadata": {},
     "output_type": "execute_result"
    }
   ],
   "source": [
    "df = pd.read_excel(\"posts.xlsx\")\n",
    "df.head()"
   ]
  },
  {
   "cell_type": "code",
   "execution_count": 32,
   "id": "d378efaf",
   "metadata": {},
   "outputs": [
    {
     "data": {
      "text/html": [
       "<div>\n",
       "<style scoped>\n",
       "    .dataframe tbody tr th:only-of-type {\n",
       "        vertical-align: middle;\n",
       "    }\n",
       "\n",
       "    .dataframe tbody tr th {\n",
       "        vertical-align: top;\n",
       "    }\n",
       "\n",
       "    .dataframe thead th {\n",
       "        text-align: right;\n",
       "    }\n",
       "</style>\n",
       "<table border=\"1\" class=\"dataframe\">\n",
       "  <thead>\n",
       "    <tr style=\"text-align: right;\">\n",
       "      <th></th>\n",
       "      <th>Unnamed: 0</th>\n",
       "      <th>reaction</th>\n",
       "      <th>comment</th>\n",
       "    </tr>\n",
       "  </thead>\n",
       "  <tbody>\n",
       "    <tr>\n",
       "      <th>count</th>\n",
       "      <td>3450.000000</td>\n",
       "      <td>3450.000000</td>\n",
       "      <td>3418.000000</td>\n",
       "    </tr>\n",
       "    <tr>\n",
       "      <th>mean</th>\n",
       "      <td>1724.500000</td>\n",
       "      <td>161.273043</td>\n",
       "      <td>177.120538</td>\n",
       "    </tr>\n",
       "    <tr>\n",
       "      <th>std</th>\n",
       "      <td>996.073541</td>\n",
       "      <td>147.782744</td>\n",
       "      <td>937.298884</td>\n",
       "    </tr>\n",
       "    <tr>\n",
       "      <th>min</th>\n",
       "      <td>0.000000</td>\n",
       "      <td>2.000000</td>\n",
       "      <td>1.000000</td>\n",
       "    </tr>\n",
       "    <tr>\n",
       "      <th>25%</th>\n",
       "      <td>862.250000</td>\n",
       "      <td>65.000000</td>\n",
       "      <td>16.000000</td>\n",
       "    </tr>\n",
       "    <tr>\n",
       "      <th>50%</th>\n",
       "      <td>1724.500000</td>\n",
       "      <td>129.000000</td>\n",
       "      <td>40.000000</td>\n",
       "    </tr>\n",
       "    <tr>\n",
       "      <th>75%</th>\n",
       "      <td>2586.750000</td>\n",
       "      <td>214.000000</td>\n",
       "      <td>91.000000</td>\n",
       "    </tr>\n",
       "    <tr>\n",
       "      <th>max</th>\n",
       "      <td>3449.000000</td>\n",
       "      <td>1672.000000</td>\n",
       "      <td>12891.000000</td>\n",
       "    </tr>\n",
       "  </tbody>\n",
       "</table>\n",
       "</div>"
      ],
      "text/plain": [
       "        Unnamed: 0     reaction       comment\n",
       "count  3450.000000  3450.000000   3418.000000\n",
       "mean   1724.500000   161.273043    177.120538\n",
       "std     996.073541   147.782744    937.298884\n",
       "min       0.000000     2.000000      1.000000\n",
       "25%     862.250000    65.000000     16.000000\n",
       "50%    1724.500000   129.000000     40.000000\n",
       "75%    2586.750000   214.000000     91.000000\n",
       "max    3449.000000  1672.000000  12891.000000"
      ]
     },
     "execution_count": 32,
     "metadata": {},
     "output_type": "execute_result"
    }
   ],
   "source": [
    "df.describe()"
   ]
  },
  {
   "cell_type": "code",
   "execution_count": 33,
   "id": "72bdd9c1",
   "metadata": {},
   "outputs": [
    {
     "name": "stdout",
     "output_type": "stream",
     "text": [
      "<class 'pandas.core.frame.DataFrame'>\n",
      "RangeIndex: 3450 entries, 0 to 3449\n",
      "Data columns (total 7 columns):\n",
      " #   Column      Non-Null Count  Dtype         \n",
      "---  ------      --------------  -----         \n",
      " 0   Unnamed: 0  3450 non-null   int64         \n",
      " 1   id          3450 non-null   object        \n",
      " 2   date        3450 non-null   datetime64[ns]\n",
      " 3   text        3450 non-null   object        \n",
      " 4   publisher   3450 non-null   object        \n",
      " 5   reaction    3450 non-null   int64         \n",
      " 6   comment     3418 non-null   float64       \n",
      "dtypes: datetime64[ns](1), float64(1), int64(2), object(3)\n",
      "memory usage: 188.8+ KB\n"
     ]
    }
   ],
   "source": [
    "df.info()"
   ]
  },
  {
   "cell_type": "code",
   "execution_count": 34,
   "id": "a7228354",
   "metadata": {},
   "outputs": [
    {
     "data": {
      "text/plain": [
       "Unnamed: 0     0\n",
       "id             0\n",
       "date           0\n",
       "text           0\n",
       "publisher      0\n",
       "reaction       0\n",
       "comment       32\n",
       "dtype: int64"
      ]
     },
     "execution_count": 34,
     "metadata": {},
     "output_type": "execute_result"
    }
   ],
   "source": [
    "df.isnull().sum()"
   ]
  },
  {
   "cell_type": "code",
   "execution_count": 35,
   "id": "6d1b2b21",
   "metadata": {},
   "outputs": [],
   "source": [
    "df['comment'] = df['comment'].fillna(0)"
   ]
  },
  {
   "cell_type": "code",
   "execution_count": 36,
   "id": "98736ad1",
   "metadata": {},
   "outputs": [],
   "source": [
    "import re\n",
    "\n",
    "def standardize_text(text):\n",
    "    text = text.lower()\n",
    "    text = re.sub('@[^\\s]+', '', text)\n",
    "    text = re.sub('http[^\\s]+', '', text)\n",
    "    text = re.sub('\\$\\d+\\.\\d{2}', '', text)\n",
    "    text = re.sub(r'\\d+', '', text)\n",
    "    text = re.sub(\"[^\\w\\s]\",\"\", text) # возможно плохая\n",
    "    text = re.sub('\\n', ' ', text)\n",
    "    text = re.sub('\\xa0', ' ', text)\n",
    "    text= re.sub(' +',' ', text)\n",
    "    return text\n",
    "\n"
   ]
  },
  {
   "cell_type": "code",
   "execution_count": 37,
   "id": "fbb3e56b",
   "metadata": {},
   "outputs": [
    {
     "data": {
      "text/plain": [
       "'🤓 Японские свечи, топливные брикеты и история о дружбе инвесторов\\n\\nОбсуждаем самые популярные и интересные посты этой недели в Пульсе.\\n\\n🧬В топе по просмотрам сплошь новостные дайджесты. Самые популярные от\\xa0 @Dengy_ne_problema (около 15 тыс. просмотров), @Fomag.ru (13,4 тыс) и @Yverenno (12,1 тыс).\\n\\n🧬Но нам бы хотелось отметить образовательный пост @GilmanovMedia про японские свечи. Наглядно (с картинкой) и просто автор объясняет, как работает инструмент технического анализа и, что важно, не выдает его за панацею. Результат — больше 400 комментов и 100 лайков, 11,5 тыс. просмотров.\\xa0\\n\\n🧬Также в топе по лайкам пост про зависание нашего приложения от @GoodMoneyWork (397 лайков). Все оперативно починили, спасибо, что помогаете нам находить и исправлять ошибки. А также обзор российского рынка на постпраздничной неделе от @Karsotel (348 лайков).\\xa0\\n\\n🧬Бодро ворвалась в Пульс редакция информагентства для трейдеров и инвесторов Биржевик — @BirzhevikOfficial. Ребята пишут годный контент, быстро набирают подписчиков (1957) и лайки (314 у приветственного поста). Так держать!\\xa0\\n\\n🧬Также в топе по количеству лайков (297) @Segezha_Group_official с новостью о том, что компания начала продавать топливные брикеты на Ozon. Здорово, когда большие компании делятся интересными новостями.\\xa0Больше всего комментариев собрал пост @osmagnat с фотками собственноручно приготовленной пиццы — 687. \\n\\n🧬И еще одна интересная история (634 комментария) от @Katy_gav, которая нашла в Пульсе подругу и, как внезапно выяснилось, соседку. Инвестиции сближают)\\xa0'"
      ]
     },
     "execution_count": 37,
     "metadata": {},
     "output_type": "execute_result"
    }
   ],
   "source": [
    "df['text'][8]\n"
   ]
  },
  {
   "cell_type": "code",
   "execution_count": 38,
   "id": "994c619a",
   "metadata": {},
   "outputs": [],
   "source": [
    "df['text'] = df['text'].apply(standardize_text)"
   ]
  },
  {
   "cell_type": "code",
   "execution_count": 39,
   "id": "930671f2",
   "metadata": {},
   "outputs": [
    {
     "data": {
      "text/plain": [
       "' японские свечи топливные брикеты и история о дружбе инвесторов обсуждаем самые популярные и интересные посты этой недели в пульсе в топе по просмотрам сплошь новостные дайджесты самые популярные от около тыс просмотров тыс и тыс но нам бы хотелось отметить образовательный пост про японские свечи наглядно с картинкой и просто автор объясняет как работает инструмент технического анализа и что важно не выдает его за панацею результат больше комментов и лайков тыс просмотров также в топе по лайкам пост про зависание нашего приложения от лайков все оперативно починили спасибо что помогаете нам находить и исправлять ошибки а также обзор российского рынка на постпраздничной неделе от лайков бодро ворвалась в пульс редакция информагентства для трейдеров и инвесторов биржевик ребята пишут годный контент быстро набирают подписчиков и лайки у приветственного поста так держать также в топе по количеству лайков с новостью о том что компания начала продавать топливные брикеты на ozon здорово когда большие компании делятся интересными новостями больше всего комментариев собрал пост с фотками собственноручно приготовленной пиццы и еще одна интересная история комментария от которая нашла в пульсе подругу и как внезапно выяснилось соседку инвестиции сближают '"
      ]
     },
     "execution_count": 39,
     "metadata": {},
     "output_type": "execute_result"
    }
   ],
   "source": [
    "df['text'][8]"
   ]
  },
  {
   "cell_type": "markdown",
   "id": "b0b12ba9",
   "metadata": {},
   "source": [
    "#Tokenization with NLTK"
   ]
  },
  {
   "cell_type": "code",
   "execution_count": 40,
   "id": "c4037f04",
   "metadata": {},
   "outputs": [
    {
     "name": "stderr",
     "output_type": "stream",
     "text": [
      "[nltk_data] Downloading package stopwords to\n",
      "[nltk_data]     C:\\Users\\mikha\\AppData\\Roaming\\nltk_data...\n",
      "[nltk_data]   Package stopwords is already up-to-date!\n"
     ]
    }
   ],
   "source": [
    "from nltk.tokenize import word_tokenize\n",
    "nltk.download('stopwords')\n",
    "\n",
    "from nltk.corpus import stopwords"
   ]
  },
  {
   "cell_type": "code",
   "execution_count": 41,
   "id": "4d35b55e",
   "metadata": {},
   "outputs": [],
   "source": [
    "df['token'] = df['text'].apply(word_tokenize)"
   ]
  },
  {
   "cell_type": "code",
   "execution_count": 42,
   "id": "0f49f2cd",
   "metadata": {},
   "outputs": [
    {
     "name": "stdout",
     "output_type": "stream",
     "text": [
      "893079 words total, with a vocabulary size of 59045\n",
      "Max sentence length is 1768\n"
     ]
    }
   ],
   "source": [
    "all_words = [word for tokens in df[\"token\"] for word in tokens]\n",
    "text_lengths = [len(tokens) for tokens in df[\"token\"]]\n",
    "VOCA = sorted(list(set(all_words)))\n",
    "\n",
    "print(\"%s words total, with a vocabulary size of %s\" % (len(all_words), len(VOCAB)))\n",
    "print(\"Max sentence length is %s\" % max(text_lengths))"
   ]
  },
  {
   "cell_type": "code",
   "execution_count": 43,
   "id": "2860ffaa",
   "metadata": {},
   "outputs": [
    {
     "data": {
      "image/png": "[encoded data removed]",
      "text/plain": [
       "<Figure size 800x800 with 1 Axes>"
      ]
     },
     "metadata": {},
     "output_type": "display_data"
    }
   ],
   "source": [
    "fig = plt.figure(figsize=(8, 8))\n",
    "plt.xlabel('Number of words')\n",
    "plt.ylabel('Count')\n",
    "plt.hist(text_lengths, bins=20)\n",
    "plt.show()"
   ]
  },
  {
   "cell_type": "markdown",
   "id": "8c622cbc",
   "metadata": {},
   "source": [
    "### Remove stop words"
   ]
  },
  {
   "cell_type": "code",
   "execution_count": 88,
   "id": "eb444e24",
   "metadata": {},
   "outputs": [],
   "source": [
    "def remove_stopwords(text, vocab_set):\n",
    "    words = [w for w in text if w not in vocab_set]\n",
    "    return words"
   ]
  },
  {
   "cell_type": "code",
   "execution_count": 45,
   "id": "d1802806",
   "metadata": {},
   "outputs": [
    {
     "name": "stdout",
     "output_type": "stream",
     "text": [
      "CPU times: total: 2min 38s\n",
      "Wall time: 2min 39s\n"
     ]
    }
   ],
   "source": [
    "%%time\n",
    "df['token'] = df['token'].apply(lambda x: remove_stopwords(x, stopwords.words('russian')))"
   ]
  },
  {
   "cell_type": "code",
   "execution_count": 46,
   "id": "7365bab2",
   "metadata": {},
   "outputs": [
    {
     "data": {
      "text/plain": [
       "0       [происходит, мосбирже, останется, мосбирже, эг...\n",
       "1       [прямом, эфире, василий, олейник, ирина, ахмад...\n",
       "2       [доброе, утро, продолжаем, говорить, тематику,...\n",
       "3       [российский, рынок, напоминаем, акциям, сбера,...\n",
       "4       [инфляционные, ожидания, такое, оценивать, эко...\n",
       "                              ...                        \n",
       "3445    [продолжаем, публиковать, расписание, финансов...\n",
       "3446    [чипы, кризис, нужны, акции, полупроводниковых...\n",
       "3447    [году, курс, долларрубль, успел, взлететь, зат...\n",
       "3448    [делать, свободными, рублями, депозиты, людей,...\n",
       "3449    [гмк, норникель, gmkn, обзор, компании, новых,...\n",
       "Name: token, Length: 3450, dtype: object"
      ]
     },
     "execution_count": 46,
     "metadata": {},
     "output_type": "execute_result"
    }
   ],
   "source": [
    "df['token']"
   ]
  },
  {
   "cell_type": "markdown",
   "id": "f8145a07",
   "metadata": {},
   "source": [
    "### Let's look how many words left after removing stop words"
   ]
  },
  {
   "cell_type": "code",
   "execution_count": 49,
   "id": "d7bf322f",
   "metadata": {},
   "outputs": [
    {
     "name": "stdout",
     "output_type": "stream",
     "text": [
      "633744 words total, with a vocabulary size of 58894\n",
      "Max sentence length is 1298\n"
     ]
    }
   ],
   "source": [
    "all_words_tr = [word for tokens in df[\"token\"] for word in tokens]\n",
    "text_lengths_tr = [len(tokens) for tokens in df[\"token\"]]\n",
    "vocab_tr = sorted(list(set(all_words_tr)))\n",
    "\n",
    "print(\"%s words total, with a vocabulary size of %s\" % (len(all_words_tr), len(vocab_tr)))\n",
    "print(\"Max sentence length is %s\" % max(text_lengths_tr))"
   ]
  },
  {
   "cell_type": "code",
   "execution_count": 50,
   "id": "4136003e",
   "metadata": {},
   "outputs": [
    {
     "data": {
      "image/png": "[encoded data removed]",
      "text/plain": [
       "<Figure size 800x800 with 1 Axes>"
      ]
     },
     "metadata": {},
     "output_type": "display_data"
    }
   ],
   "source": [
    "fig = plt.figure(figsize=(8, 8))\n",
    "plt.xlabel('Number of words')\n",
    "plt.ylabel('Count')\n",
    "plt.hist(text_lengths_tr, bins=20)\n",
    "plt.show()"
   ]
  },
  {
   "cell_type": "code",
   "execution_count": 57,
   "id": "d9ecc5ed",
   "metadata": {},
   "outputs": [
    {
     "name": "stdout",
     "output_type": "stream",
     "text": [
      "Word's dropped in total: 259335\n",
      "Word's dropped from vocabulary: 151\n"
     ]
    }
   ],
   "source": [
    "print(\"Word's dropped in total:\", len(all_words)-len(all_words_tr))\n",
    "print(\"Word's dropped from vocabulary:\", len(VOCAB)-len(vocab_tr))"
   ]
  },
  {
   "cell_type": "markdown",
   "id": "77a34be0",
   "metadata": {},
   "source": [
    "### Lemmatization"
   ]
  },
  {
   "cell_type": "code",
   "execution_count": 64,
   "id": "f79d64fa",
   "metadata": {},
   "outputs": [
    {
     "name": "stdout",
     "output_type": "stream",
     "text": [
      "Collecting pymorphy2\n",
      "  Downloading pymorphy2-0.9.1-py3-none-any.whl (55 kB)\n",
      "Collecting dawg-python>=0.7.1\n",
      "  Downloading DAWG_Python-0.7.2-py2.py3-none-any.whl (11 kB)\n",
      "Collecting docopt>=0.6\n",
      "  Downloading docopt-0.6.2.tar.gz (25 kB)\n",
      "Collecting pymorphy2-dicts-ru<3.0,>=2.4\n",
      "  Downloading pymorphy2_dicts_ru-2.4.417127.4579844-py2.py3-none-any.whl (8.2 MB)\n",
      "Building wheels for collected packages: docopt\n",
      "  Building wheel for docopt (setup.py): started\n",
      "  Building wheel for docopt (setup.py): finished with status 'done'\n",
      "  Created wheel for docopt: filename=docopt-0.6.2-py2.py3-none-any.whl size=13724 sha256=7a611534cf4b9b40224baabc61e52bfcc3f9d410026dbaaa8400cac0428797a6\n",
      "  Stored in directory: c:\\users\\mikha\\appdata\\local\\pip\\cache\\wheels\\70\\4a\\46\\1309fc853b8d395e60bafaf1b6df7845bdd82c95fd59dd8d2b\n",
      "Successfully built docopt\n",
      "Installing collected packages: pymorphy2-dicts-ru, docopt, dawg-python, pymorphy2\n",
      "Successfully installed dawg-python-0.7.2 docopt-0.6.2 pymorphy2-0.9.1 pymorphy2-dicts-ru-2.4.417127.4579844\n",
      "Note: you may need to restart the kernel to use updated packages.\n"
     ]
    }
   ],
   "source": [
    "pip install pymorphy2"
   ]
  },
  {
   "cell_type": "code",
   "execution_count": 65,
   "id": "7194ff18",
   "metadata": {},
   "outputs": [],
   "source": [
    "import pymorphy2\n",
    "from pymorphy2 import MorphAnalyzer"
   ]
  },
  {
   "cell_type": "code",
   "execution_count": 68,
   "id": "13e1a571",
   "metadata": {},
   "outputs": [],
   "source": [
    "morph = MorphAnalyzer()\n",
    "\n",
    "def lemmatize(text):\n",
    "    text = [morph.normal_forms(x)[0] for x in text]\n",
    "    return text"
   ]
  },
  {
   "cell_type": "code",
   "execution_count": 69,
   "id": "8a416feb",
   "metadata": {},
   "outputs": [],
   "source": [
    "df_lem = df['token'].apply(lemmatize)"
   ]
  },
  {
   "cell_type": "markdown",
   "id": "3f2d8b96",
   "metadata": {},
   "source": [
    "#### Check words frequency"
   ]
  },
  {
   "cell_type": "code",
   "execution_count": 72,
   "id": "a2ed2750",
   "metadata": {},
   "outputs": [],
   "source": [
    "from nltk.probability import FreqDist"
   ]
  },
  {
   "cell_type": "code",
   "execution_count": 77,
   "id": "a2f8daab",
   "metadata": {},
   "outputs": [
    {
     "data": {
      "text/plain": [
       "['бодрый',\n",
       " 'бывать',\n",
       " 'индекс',\n",
       " 'мосбиржа',\n",
       " 'отжиматься',\n",
       " 'бросок',\n",
       " 'пока',\n",
       " 'сам',\n",
       " 'знать',\n",
       " 'голубой']"
      ]
     },
     "execution_count": 77,
     "metadata": {},
     "output_type": "execute_result"
    }
   ],
   "source": [
    "corpus = [word for i in df_lem for word in i]\n",
    "corpus[10:20]"
   ]
  },
  {
   "cell_type": "code",
   "execution_count": 84,
   "id": "d8909399",
   "metadata": {},
   "outputs": [
    {
     "data": {
      "text/plain": [
       "<AxesSubplot:>"
      ]
     },
     "execution_count": 84,
     "metadata": {},
     "output_type": "execute_result"
    },
    {
     "data": {
      "image/png": "[encoded data removed]",
      "text/plain": [
       "<Figure size 640x480 with 1 Axes>"
      ]
     },
     "metadata": {},
     "output_type": "display_data"
    }
   ],
   "source": [
    "most_common = FreqDist(corpus).most_common(20)\n",
    "words, frequency = [], []\n",
    "for word, count in most_common:\n",
    "    words.append(word)\n",
    "    frequency.append(count)\n",
    "    \n",
    "sns.barplot(x = frequency, y = words)"
   ]
  },
  {
   "cell_type": "code",
   "execution_count": 85,
   "id": "f2c40a28",
   "metadata": {},
   "outputs": [
    {
     "data": {
      "text/plain": [
       "[('год', 8502),\n",
       " ('компания', 7332),\n",
       " ('акция', 7043),\n",
       " ('это', 6189),\n",
       " ('который', 5092),\n",
       " ('рынок', 5046),\n",
       " ('цена', 3770),\n",
       " ('инвестор', 3709),\n",
       " ('бумага', 3624),\n",
       " ('свой', 3135),\n",
       " ('рост', 2801),\n",
       " ('рубль', 2569),\n",
       " ('актив', 2390),\n",
       " ('такой', 2383),\n",
       " ('прибыль', 2338),\n",
       " ('финансовый', 2091),\n",
       " ('мочь', 2053),\n",
       " ('время', 2051),\n",
       " ('облигация', 2000),\n",
       " ('млрд', 1919),\n",
       " ('риск', 1866),\n",
       " ('уровень', 1826),\n",
       " ('также', 1782),\n",
       " ('инвестиция', 1733),\n",
       " ('портфель', 1711),\n",
       " ('ценный', 1686),\n",
       " ('биржа', 1659),\n",
       " ('другой', 1620),\n",
       " ('день', 1616),\n",
       " ('один', 1612),\n",
       " ('сделка', 1565),\n",
       " ('ставка', 1547),\n",
       " ('дивиденд', 1546),\n",
       " ('новый', 1519),\n",
       " ('быть', 1511),\n",
       " ('первый', 1501),\n",
       " ('счёт', 1495),\n",
       " ('результат', 1492),\n",
       " ('российский', 1485),\n",
       " ('самый', 1452),\n",
       " ('индекс', 1439),\n",
       " ('продажа', 1432),\n",
       " ('деньга', 1410),\n",
       " ('доходность', 1394),\n",
       " ('выручка', 1357),\n",
       " ('наш', 1333),\n",
       " ('ваш', 1328),\n",
       " ('стоимость', 1286),\n",
       " ('хороший', 1282),\n",
       " ('стать', 1272)]"
      ]
     },
     "execution_count": 85,
     "metadata": {},
     "output_type": "execute_result"
    }
   ],
   "source": [
    "FreqDist(corpus).most_common(50)"
   ]
  },
  {
   "cell_type": "markdown",
   "id": "de96533e",
   "metadata": {},
   "source": [
    "We can see, that words like \"**который**\" and \"**это**\" are popular, but will not have impact on model. We shoud drop them"
   ]
  },
  {
   "cell_type": "code",
   "execution_count": 89,
   "id": "c0df3acf",
   "metadata": {},
   "outputs": [],
   "source": [
    "stop_words = [\"это\", \"который\", \"свой\", 'такой', 'также']\n",
    "df_lem = df_lem.apply(lambda x: remove_stopwords(x, stop_words))"
   ]
  },
  {
   "cell_type": "code",
   "execution_count": 90,
   "id": "6b9f99e6",
   "metadata": {},
   "outputs": [
    {
     "data": {
      "text/plain": [
       "[('год', 8502),\n",
       " ('компания', 7332),\n",
       " ('акция', 7043),\n",
       " ('рынок', 5046),\n",
       " ('цена', 3770),\n",
       " ('инвестор', 3709),\n",
       " ('бумага', 3624),\n",
       " ('рост', 2801),\n",
       " ('рубль', 2569),\n",
       " ('актив', 2390),\n",
       " ('прибыль', 2338),\n",
       " ('финансовый', 2091),\n",
       " ('мочь', 2053),\n",
       " ('время', 2051),\n",
       " ('облигация', 2000),\n",
       " ('млрд', 1919),\n",
       " ('риск', 1866),\n",
       " ('уровень', 1826),\n",
       " ('инвестиция', 1733),\n",
       " ('портфель', 1711),\n",
       " ('ценный', 1686),\n",
       " ('биржа', 1659),\n",
       " ('другой', 1620),\n",
       " ('день', 1616),\n",
       " ('один', 1612),\n",
       " ('сделка', 1565),\n",
       " ('ставка', 1547),\n",
       " ('дивиденд', 1546),\n",
       " ('новый', 1519),\n",
       " ('быть', 1511),\n",
       " ('первый', 1501),\n",
       " ('счёт', 1495),\n",
       " ('результат', 1492),\n",
       " ('российский', 1485),\n",
       " ('самый', 1452),\n",
       " ('индекс', 1439),\n",
       " ('продажа', 1432),\n",
       " ('деньга', 1410),\n",
       " ('доходность', 1394),\n",
       " ('выручка', 1357),\n",
       " ('наш', 1333),\n",
       " ('ваш', 1328),\n",
       " ('стоимость', 1286),\n",
       " ('хороший', 1282),\n",
       " ('стать', 1272),\n",
       " ('получить', 1266),\n",
       " ('являться', 1263),\n",
       " ('сша', 1256),\n",
       " ('неделя', 1255),\n",
       " ('инструмент', 1249)]"
      ]
     },
     "execution_count": 90,
     "metadata": {},
     "output_type": "execute_result"
    }
   ],
   "source": [
    "corpus = [word for i in df_lem for word in i]\n",
    "FreqDist(corpus).most_common(50)"
   ]
  }
 ],
 "metadata": {
  "kernelspec": {
   "display_name": "Python 3 (ipykernel)",
   "language": "python",
   "name": "python3"
  },
  "language_info": {
   "codemirror_mode": {
    "name": "ipython",
    "version": 3
   },
   "file_extension": ".py",
   "mimetype": "text/x-python",
   "name": "python",
   "nbconvert_exporter": "python",
   "pygments_lexer": "ipython3",
   "version": "3.9.7"
  }
 },
 "nbformat": 4,
 "nbformat_minor": 5
}
